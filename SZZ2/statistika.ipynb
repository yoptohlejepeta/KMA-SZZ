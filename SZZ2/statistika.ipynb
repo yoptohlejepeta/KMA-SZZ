{
 "cells": [
  {
   "cell_type": "code",
   "execution_count": 22,
   "metadata": {},
   "outputs": [],
   "source": [
    "import pandas as pd\n",
    "import numpy as np\n",
    "\n",
    "np.random.seed(42)\n",
    "\n",
    "n_responses = 1000\n",
    "\n",
    "age = np.random.randint(18, 70, size=n_responses)\n",
    "# gender = np.random.choice([0, 1], size=n_responses) # 0 = Muž, 1 = Žena\n",
    "gender = np.random.choice(['Muž', 'Žena'], size=n_responses)\n",
    "# education = np.random.choice([1, 2, 3], size=n_responses)  # 1 = Primary, 2 = Secondary, 3 = Tertiary\n",
    "education = np.random.choice(['Primary', 'Secondary', 'Tertiary'], size=n_responses)\n",
    "# city_size = np.random.choice([1, 2, 3], size=n_responses)  # 1 = Small, 2 = Medium, 3 = Large\n",
    "city_size = np.random.choice(['Small', 'Medium', 'Large'], size=n_responses)\n",
    "\n",
    "# Odpovědi na otázky\n",
    "question1 = np.random.randint(1, 6, size=n_responses)  # Škála 1-5\n",
    "# question2 = np.random.choice([1, 0], size=n_responses) # 1 = Ano, 0 = Ne\n",
    "question2 = np.random.choice(['Ano', 'Ne'], size=n_responses)\n",
    "question3 = np.random.normal(50, 10, size=n_responses)\n",
    "\n",
    "data = pd.DataFrame({\n",
    "    'Age': age,\n",
    "    'Gender': gender,\n",
    "    'Education': education,\n",
    "    'City_Size': city_size,\n",
    "    'Question1': question1,\n",
    "    'Question2': question2,\n",
    "    'Question3': question3\n",
    "})\n",
    "\n",
    "data.to_csv('../data/survey_data.csv', index=False)"
   ]
  },
  {
   "cell_type": "code",
   "execution_count": 17,
   "metadata": {},
   "outputs": [
    {
     "name": "stdout",
     "output_type": "stream",
     "text": [
      "Data nemají normální rozdělení (Shapiro-Wilk test, p = 0.0000)\n",
      "Data jsou homoskedastická (Levene test, p = 0.2715)\n"
     ]
    },
    {
     "name": "stderr",
     "output_type": "stream",
     "text": [
      "/home/petka/PROJECTS/KMA-SZZ/.venv/lib/python3.10/site-packages/scipy/stats/_axis_nan_policy.py:531: UserWarning:\n",
      "\n",
      "scipy.stats.shapiro: For N > 5000, computed p-value may not be accurate. Current N is 7000.\n",
      "\n"
     ]
    }
   ],
   "source": [
    "from scipy import stats\n",
    "\n",
    "# data se musi previst na numericke hodnoty\n",
    "\n",
    "def check_anova_assumptions(data):\n",
    "    # Předpoklad: Normalita dat\n",
    "    # Test Shapiro-Wilk\n",
    "    _, shapiro_p = stats.shapiro(data)\n",
    "    if shapiro_p > 0.05:\n",
    "        print(\"Data mají normální rozdělení (Shapiro-Wilk test, p = {:.4f})\".format(shapiro_p))\n",
    "    else:\n",
    "        print(\"Data nemají normální rozdělení (Shapiro-Wilk test, p = {:.4f})\".format(shapiro_p))\n",
    "\n",
    "    # Předpoklad: Homoskedasticita\n",
    "    # Test Levene\n",
    "    _, levene_p = stats.levene(data.loc[data[\"Gender\"] == 0, \"Question1\"], data.loc[data[\"Gender\"] == 1, \"Question1\"])\n",
    "    if levene_p > 0.05:\n",
    "        print(\"Data jsou homoskedastická (Levene test, p = {:.4f})\".format(levene_p))\n",
    "    else:\n",
    "        print(\"Data nejsou homoskedastická (Levene test, p = {:.4f})\".format(levene_p))\n",
    "\n",
    "check_anova_assumptions(data)"
   ]
  },
  {
   "cell_type": "code",
   "execution_count": 25,
   "metadata": {},
   "outputs": [
    {
     "data": {
      "application/vnd.plotly.v1+json": {
       "config": {
        "plotlyServerURL": "https://plot.ly"
       },
       "data": [
        {
         "alignmentgroup": "True",
         "hovertemplate": "Frequency=%{x}<br>count=%{y}<extra></extra>",
         "legendgroup": "",
         "marker": {
          "color": "#636efa",
          "pattern": {
           "shape": ""
          }
         },
         "name": "",
         "offsetgroup": "",
         "orientation": "v",
         "showlegend": false,
         "textposition": "auto",
         "type": "bar",
         "x": [
          43,
          45,
          50,
          52,
          66,
          49,
          18,
          64,
          41,
          56,
          40,
          22,
          54,
          68,
          62,
          65,
          69,
          42,
          29,
          33,
          19,
          20,
          25,
          34,
          53,
          61,
          39,
          46,
          38,
          47,
          36,
          31,
          26,
          58,
          51,
          30,
          28,
          67,
          59,
          44,
          21,
          57,
          23,
          32,
          35,
          55,
          27,
          37,
          24,
          48,
          63,
          60
         ],
         "xaxis": "x",
         "y": [
          28,
          28,
          27,
          27,
          26,
          25,
          24,
          23,
          23,
          23,
          23,
          23,
          22,
          22,
          22,
          21,
          21,
          21,
          21,
          21,
          21,
          21,
          21,
          20,
          20,
          19,
          19,
          19,
          18,
          18,
          18,
          18,
          17,
          16,
          16,
          16,
          16,
          16,
          16,
          16,
          15,
          15,
          15,
          15,
          15,
          14,
          14,
          14,
          14,
          13,
          13,
          11
         ],
         "yaxis": "y"
        }
       ],
       "layout": {
        "barmode": "relative",
        "legend": {
         "tracegroupgap": 0
        },
        "template": {
         "data": {
          "bar": [
           {
            "error_x": {
             "color": "#2a3f5f"
            },
            "error_y": {
             "color": "#2a3f5f"
            },
            "marker": {
             "line": {
              "color": "#E5ECF6",
              "width": 0.5
             },
             "pattern": {
              "fillmode": "overlay",
              "size": 10,
              "solidity": 0.2
             }
            },
            "type": "bar"
           }
          ],
          "barpolar": [
           {
            "marker": {
             "line": {
              "color": "#E5ECF6",
              "width": 0.5
             },
             "pattern": {
              "fillmode": "overlay",
              "size": 10,
              "solidity": 0.2
             }
            },
            "type": "barpolar"
           }
          ],
          "carpet": [
           {
            "aaxis": {
             "endlinecolor": "#2a3f5f",
             "gridcolor": "white",
             "linecolor": "white",
             "minorgridcolor": "white",
             "startlinecolor": "#2a3f5f"
            },
            "baxis": {
             "endlinecolor": "#2a3f5f",
             "gridcolor": "white",
             "linecolor": "white",
             "minorgridcolor": "white",
             "startlinecolor": "#2a3f5f"
            },
            "type": "carpet"
           }
          ],
          "choropleth": [
           {
            "colorbar": {
             "outlinewidth": 0,
             "ticks": ""
            },
            "type": "choropleth"
           }
          ],
          "contour": [
           {
            "colorbar": {
             "outlinewidth": 0,
             "ticks": ""
            },
            "colorscale": [
             [
              0,
              "#0d0887"
             ],
             [
              0.1111111111111111,
              "#46039f"
             ],
             [
              0.2222222222222222,
              "#7201a8"
             ],
             [
              0.3333333333333333,
              "#9c179e"
             ],
             [
              0.4444444444444444,
              "#bd3786"
             ],
             [
              0.5555555555555556,
              "#d8576b"
             ],
             [
              0.6666666666666666,
              "#ed7953"
             ],
             [
              0.7777777777777778,
              "#fb9f3a"
             ],
             [
              0.8888888888888888,
              "#fdca26"
             ],
             [
              1,
              "#f0f921"
             ]
            ],
            "type": "contour"
           }
          ],
          "contourcarpet": [
           {
            "colorbar": {
             "outlinewidth": 0,
             "ticks": ""
            },
            "type": "contourcarpet"
           }
          ],
          "heatmap": [
           {
            "colorbar": {
             "outlinewidth": 0,
             "ticks": ""
            },
            "colorscale": [
             [
              0,
              "#0d0887"
             ],
             [
              0.1111111111111111,
              "#46039f"
             ],
             [
              0.2222222222222222,
              "#7201a8"
             ],
             [
              0.3333333333333333,
              "#9c179e"
             ],
             [
              0.4444444444444444,
              "#bd3786"
             ],
             [
              0.5555555555555556,
              "#d8576b"
             ],
             [
              0.6666666666666666,
              "#ed7953"
             ],
             [
              0.7777777777777778,
              "#fb9f3a"
             ],
             [
              0.8888888888888888,
              "#fdca26"
             ],
             [
              1,
              "#f0f921"
             ]
            ],
            "type": "heatmap"
           }
          ],
          "heatmapgl": [
           {
            "colorbar": {
             "outlinewidth": 0,
             "ticks": ""
            },
            "colorscale": [
             [
              0,
              "#0d0887"
             ],
             [
              0.1111111111111111,
              "#46039f"
             ],
             [
              0.2222222222222222,
              "#7201a8"
             ],
             [
              0.3333333333333333,
              "#9c179e"
             ],
             [
              0.4444444444444444,
              "#bd3786"
             ],
             [
              0.5555555555555556,
              "#d8576b"
             ],
             [
              0.6666666666666666,
              "#ed7953"
             ],
             [
              0.7777777777777778,
              "#fb9f3a"
             ],
             [
              0.8888888888888888,
              "#fdca26"
             ],
             [
              1,
              "#f0f921"
             ]
            ],
            "type": "heatmapgl"
           }
          ],
          "histogram": [
           {
            "marker": {
             "pattern": {
              "fillmode": "overlay",
              "size": 10,
              "solidity": 0.2
             }
            },
            "type": "histogram"
           }
          ],
          "histogram2d": [
           {
            "colorbar": {
             "outlinewidth": 0,
             "ticks": ""
            },
            "colorscale": [
             [
              0,
              "#0d0887"
             ],
             [
              0.1111111111111111,
              "#46039f"
             ],
             [
              0.2222222222222222,
              "#7201a8"
             ],
             [
              0.3333333333333333,
              "#9c179e"
             ],
             [
              0.4444444444444444,
              "#bd3786"
             ],
             [
              0.5555555555555556,
              "#d8576b"
             ],
             [
              0.6666666666666666,
              "#ed7953"
             ],
             [
              0.7777777777777778,
              "#fb9f3a"
             ],
             [
              0.8888888888888888,
              "#fdca26"
             ],
             [
              1,
              "#f0f921"
             ]
            ],
            "type": "histogram2d"
           }
          ],
          "histogram2dcontour": [
           {
            "colorbar": {
             "outlinewidth": 0,
             "ticks": ""
            },
            "colorscale": [
             [
              0,
              "#0d0887"
             ],
             [
              0.1111111111111111,
              "#46039f"
             ],
             [
              0.2222222222222222,
              "#7201a8"
             ],
             [
              0.3333333333333333,
              "#9c179e"
             ],
             [
              0.4444444444444444,
              "#bd3786"
             ],
             [
              0.5555555555555556,
              "#d8576b"
             ],
             [
              0.6666666666666666,
              "#ed7953"
             ],
             [
              0.7777777777777778,
              "#fb9f3a"
             ],
             [
              0.8888888888888888,
              "#fdca26"
             ],
             [
              1,
              "#f0f921"
             ]
            ],
            "type": "histogram2dcontour"
           }
          ],
          "mesh3d": [
           {
            "colorbar": {
             "outlinewidth": 0,
             "ticks": ""
            },
            "type": "mesh3d"
           }
          ],
          "parcoords": [
           {
            "line": {
             "colorbar": {
              "outlinewidth": 0,
              "ticks": ""
             }
            },
            "type": "parcoords"
           }
          ],
          "pie": [
           {
            "automargin": true,
            "type": "pie"
           }
          ],
          "scatter": [
           {
            "fillpattern": {
             "fillmode": "overlay",
             "size": 10,
             "solidity": 0.2
            },
            "type": "scatter"
           }
          ],
          "scatter3d": [
           {
            "line": {
             "colorbar": {
              "outlinewidth": 0,
              "ticks": ""
             }
            },
            "marker": {
             "colorbar": {
              "outlinewidth": 0,
              "ticks": ""
             }
            },
            "type": "scatter3d"
           }
          ],
          "scattercarpet": [
           {
            "marker": {
             "colorbar": {
              "outlinewidth": 0,
              "ticks": ""
             }
            },
            "type": "scattercarpet"
           }
          ],
          "scattergeo": [
           {
            "marker": {
             "colorbar": {
              "outlinewidth": 0,
              "ticks": ""
             }
            },
            "type": "scattergeo"
           }
          ],
          "scattergl": [
           {
            "marker": {
             "colorbar": {
              "outlinewidth": 0,
              "ticks": ""
             }
            },
            "type": "scattergl"
           }
          ],
          "scattermapbox": [
           {
            "marker": {
             "colorbar": {
              "outlinewidth": 0,
              "ticks": ""
             }
            },
            "type": "scattermapbox"
           }
          ],
          "scatterpolar": [
           {
            "marker": {
             "colorbar": {
              "outlinewidth": 0,
              "ticks": ""
             }
            },
            "type": "scatterpolar"
           }
          ],
          "scatterpolargl": [
           {
            "marker": {
             "colorbar": {
              "outlinewidth": 0,
              "ticks": ""
             }
            },
            "type": "scatterpolargl"
           }
          ],
          "scatterternary": [
           {
            "marker": {
             "colorbar": {
              "outlinewidth": 0,
              "ticks": ""
             }
            },
            "type": "scatterternary"
           }
          ],
          "surface": [
           {
            "colorbar": {
             "outlinewidth": 0,
             "ticks": ""
            },
            "colorscale": [
             [
              0,
              "#0d0887"
             ],
             [
              0.1111111111111111,
              "#46039f"
             ],
             [
              0.2222222222222222,
              "#7201a8"
             ],
             [
              0.3333333333333333,
              "#9c179e"
             ],
             [
              0.4444444444444444,
              "#bd3786"
             ],
             [
              0.5555555555555556,
              "#d8576b"
             ],
             [
              0.6666666666666666,
              "#ed7953"
             ],
             [
              0.7777777777777778,
              "#fb9f3a"
             ],
             [
              0.8888888888888888,
              "#fdca26"
             ],
             [
              1,
              "#f0f921"
             ]
            ],
            "type": "surface"
           }
          ],
          "table": [
           {
            "cells": {
             "fill": {
              "color": "#EBF0F8"
             },
             "line": {
              "color": "white"
             }
            },
            "header": {
             "fill": {
              "color": "#C8D4E3"
             },
             "line": {
              "color": "white"
             }
            },
            "type": "table"
           }
          ]
         },
         "layout": {
          "annotationdefaults": {
           "arrowcolor": "#2a3f5f",
           "arrowhead": 0,
           "arrowwidth": 1
          },
          "autotypenumbers": "strict",
          "coloraxis": {
           "colorbar": {
            "outlinewidth": 0,
            "ticks": ""
           }
          },
          "colorscale": {
           "diverging": [
            [
             0,
             "#8e0152"
            ],
            [
             0.1,
             "#c51b7d"
            ],
            [
             0.2,
             "#de77ae"
            ],
            [
             0.3,
             "#f1b6da"
            ],
            [
             0.4,
             "#fde0ef"
            ],
            [
             0.5,
             "#f7f7f7"
            ],
            [
             0.6,
             "#e6f5d0"
            ],
            [
             0.7,
             "#b8e186"
            ],
            [
             0.8,
             "#7fbc41"
            ],
            [
             0.9,
             "#4d9221"
            ],
            [
             1,
             "#276419"
            ]
           ],
           "sequential": [
            [
             0,
             "#0d0887"
            ],
            [
             0.1111111111111111,
             "#46039f"
            ],
            [
             0.2222222222222222,
             "#7201a8"
            ],
            [
             0.3333333333333333,
             "#9c179e"
            ],
            [
             0.4444444444444444,
             "#bd3786"
            ],
            [
             0.5555555555555556,
             "#d8576b"
            ],
            [
             0.6666666666666666,
             "#ed7953"
            ],
            [
             0.7777777777777778,
             "#fb9f3a"
            ],
            [
             0.8888888888888888,
             "#fdca26"
            ],
            [
             1,
             "#f0f921"
            ]
           ],
           "sequentialminus": [
            [
             0,
             "#0d0887"
            ],
            [
             0.1111111111111111,
             "#46039f"
            ],
            [
             0.2222222222222222,
             "#7201a8"
            ],
            [
             0.3333333333333333,
             "#9c179e"
            ],
            [
             0.4444444444444444,
             "#bd3786"
            ],
            [
             0.5555555555555556,
             "#d8576b"
            ],
            [
             0.6666666666666666,
             "#ed7953"
            ],
            [
             0.7777777777777778,
             "#fb9f3a"
            ],
            [
             0.8888888888888888,
             "#fdca26"
            ],
            [
             1,
             "#f0f921"
            ]
           ]
          },
          "colorway": [
           "#636efa",
           "#EF553B",
           "#00cc96",
           "#ab63fa",
           "#FFA15A",
           "#19d3f3",
           "#FF6692",
           "#B6E880",
           "#FF97FF",
           "#FECB52"
          ],
          "font": {
           "color": "#2a3f5f"
          },
          "geo": {
           "bgcolor": "white",
           "lakecolor": "white",
           "landcolor": "#E5ECF6",
           "showlakes": true,
           "showland": true,
           "subunitcolor": "white"
          },
          "hoverlabel": {
           "align": "left"
          },
          "hovermode": "closest",
          "mapbox": {
           "style": "light"
          },
          "paper_bgcolor": "white",
          "plot_bgcolor": "#E5ECF6",
          "polar": {
           "angularaxis": {
            "gridcolor": "white",
            "linecolor": "white",
            "ticks": ""
           },
           "bgcolor": "#E5ECF6",
           "radialaxis": {
            "gridcolor": "white",
            "linecolor": "white",
            "ticks": ""
           }
          },
          "scene": {
           "xaxis": {
            "backgroundcolor": "#E5ECF6",
            "gridcolor": "white",
            "gridwidth": 2,
            "linecolor": "white",
            "showbackground": true,
            "ticks": "",
            "zerolinecolor": "white"
           },
           "yaxis": {
            "backgroundcolor": "#E5ECF6",
            "gridcolor": "white",
            "gridwidth": 2,
            "linecolor": "white",
            "showbackground": true,
            "ticks": "",
            "zerolinecolor": "white"
           },
           "zaxis": {
            "backgroundcolor": "#E5ECF6",
            "gridcolor": "white",
            "gridwidth": 2,
            "linecolor": "white",
            "showbackground": true,
            "ticks": "",
            "zerolinecolor": "white"
           }
          },
          "shapedefaults": {
           "line": {
            "color": "#2a3f5f"
           }
          },
          "ternary": {
           "aaxis": {
            "gridcolor": "white",
            "linecolor": "white",
            "ticks": ""
           },
           "baxis": {
            "gridcolor": "white",
            "linecolor": "white",
            "ticks": ""
           },
           "bgcolor": "#E5ECF6",
           "caxis": {
            "gridcolor": "white",
            "linecolor": "white",
            "ticks": ""
           }
          },
          "title": {
           "x": 0.05
          },
          "xaxis": {
           "automargin": true,
           "gridcolor": "white",
           "linecolor": "white",
           "ticks": "",
           "title": {
            "standoff": 15
           },
           "zerolinecolor": "white",
           "zerolinewidth": 2
          },
          "yaxis": {
           "automargin": true,
           "gridcolor": "white",
           "linecolor": "white",
           "ticks": "",
           "title": {
            "standoff": 15
           },
           "zerolinecolor": "white",
           "zerolinewidth": 2
          }
         }
        },
        "title": {
         "text": "Age Distribution"
        },
        "xaxis": {
         "anchor": "y",
         "domain": [
          0,
          1
         ],
         "title": {
          "text": "Frequency"
         }
        },
        "yaxis": {
         "anchor": "x",
         "domain": [
          0,
          1
         ],
         "title": {
          "text": "count"
         }
        }
       }
      }
     },
     "metadata": {},
     "output_type": "display_data"
    },
    {
     "data": {
      "application/vnd.plotly.v1+json": {
       "config": {
        "plotlyServerURL": "https://plot.ly"
       },
       "data": [
        {
         "alignmentgroup": "True",
         "hovertemplate": "Gender=%{x}<br>Age=%{y}<extra></extra>",
         "legendgroup": "",
         "marker": {
          "color": "#636efa"
         },
         "name": "",
         "notched": false,
         "offsetgroup": "",
         "orientation": "v",
         "showlegend": false,
         "type": "box",
         "x": [
          "Muž",
          "Muž",
          "Muž",
          "Žena",
          "Muž",
          "Muž",
          "Muž",
          "Žena",
          "Žena",
          "Muž",
          "Muž",
          "Muž",
          "Muž",
          "Žena",
          "Žena",
          "Žena",
          "Žena",
          "Muž",
          "Muž",
          "Muž",
          "Žena",
          "Muž",
          "Žena",
          "Žena",
          "Muž",
          "Muž",
          "Muž",
          "Žena",
          "Muž",
          "Žena",
          "Muž",
          "Žena",
          "Žena",
          "Muž",
          "Žena",
          "Žena",
          "Muž",
          "Žena",
          "Muž",
          "Žena",
          "Muž",
          "Muž",
          "Žena",
          "Žena",
          "Žena",
          "Žena",
          "Žena",
          "Muž",
          "Žena",
          "Muž",
          "Muž",
          "Žena",
          "Muž",
          "Muž",
          "Muž",
          "Muž",
          "Žena",
          "Muž",
          "Žena",
          "Žena",
          "Muž",
          "Žena",
          "Žena",
          "Žena",
          "Muž",
          "Žena",
          "Žena",
          "Žena",
          "Muž",
          "Žena",
          "Muž",
          "Muž",
          "Muž",
          "Muž",
          "Muž",
          "Muž",
          "Žena",
          "Muž",
          "Žena",
          "Žena",
          "Muž",
          "Žena",
          "Žena",
          "Žena",
          "Žena",
          "Muž",
          "Žena",
          "Muž",
          "Žena",
          "Žena",
          "Muž",
          "Žena",
          "Žena",
          "Žena",
          "Muž",
          "Žena",
          "Muž",
          "Žena",
          "Muž",
          "Muž",
          "Žena",
          "Žena",
          "Muž",
          "Muž",
          "Žena",
          "Muž",
          "Žena",
          "Žena",
          "Žena",
          "Žena",
          "Muž",
          "Žena",
          "Muž",
          "Žena",
          "Muž",
          "Žena",
          "Muž",
          "Muž",
          "Žena",
          "Žena",
          "Žena",
          "Žena",
          "Muž",
          "Žena",
          "Muž",
          "Muž",
          "Žena",
          "Muž",
          "Muž",
          "Muž",
          "Muž",
          "Žena",
          "Žena",
          "Žena",
          "Žena",
          "Muž",
          "Muž",
          "Žena",
          "Žena",
          "Žena",
          "Muž",
          "Žena",
          "Žena",
          "Žena",
          "Muž",
          "Muž",
          "Muž",
          "Muž",
          "Muž",
          "Muž",
          "Muž",
          "Muž",
          "Žena",
          "Žena",
          "Muž",
          "Muž",
          "Žena",
          "Muž",
          "Muž",
          "Muž",
          "Žena",
          "Žena",
          "Žena",
          "Žena",
          "Žena",
          "Muž",
          "Žena",
          "Muž",
          "Muž",
          "Žena",
          "Žena",
          "Muž",
          "Muž",
          "Muž",
          "Žena",
          "Žena",
          "Žena",
          "Žena",
          "Žena",
          "Muž",
          "Žena",
          "Muž",
          "Muž",
          "Muž",
          "Žena",
          "Žena",
          "Žena",
          "Muž",
          "Muž",
          "Muž",
          "Muž",
          "Muž",
          "Muž",
          "Žena",
          "Žena",
          "Žena",
          "Žena",
          "Muž",
          "Muž",
          "Žena",
          "Muž",
          "Žena",
          "Žena",
          "Žena",
          "Muž",
          "Žena",
          "Žena",
          "Žena",
          "Muž",
          "Muž",
          "Žena",
          "Muž",
          "Muž",
          "Muž",
          "Muž",
          "Muž",
          "Muž",
          "Muž",
          "Muž",
          "Muž",
          "Muž",
          "Žena",
          "Žena",
          "Muž",
          "Žena",
          "Žena",
          "Muž",
          "Muž",
          "Muž",
          "Žena",
          "Žena",
          "Muž",
          "Muž",
          "Muž",
          "Žena",
          "Žena",
          "Žena",
          "Žena",
          "Muž",
          "Muž",
          "Muž",
          "Muž",
          "Žena",
          "Žena",
          "Muž",
          "Muž",
          "Žena",
          "Muž",
          "Žena",
          "Muž",
          "Muž",
          "Muž",
          "Muž",
          "Muž",
          "Muž",
          "Muž",
          "Žena",
          "Žena",
          "Žena",
          "Žena",
          "Žena",
          "Muž",
          "Muž",
          "Žena",
          "Muž",
          "Žena",
          "Žena",
          "Muž",
          "Muž",
          "Muž",
          "Žena",
          "Muž",
          "Žena",
          "Žena",
          "Žena",
          "Muž",
          "Muž",
          "Žena",
          "Muž",
          "Muž",
          "Muž",
          "Žena",
          "Žena",
          "Muž",
          "Žena",
          "Muž",
          "Muž",
          "Muž",
          "Muž",
          "Žena",
          "Žena",
          "Žena",
          "Muž",
          "Muž",
          "Muž",
          "Žena",
          "Muž",
          "Žena",
          "Žena",
          "Žena",
          "Žena",
          "Žena",
          "Žena",
          "Muž",
          "Muž",
          "Žena",
          "Žena",
          "Muž",
          "Žena",
          "Žena",
          "Muž",
          "Žena",
          "Žena",
          "Žena",
          "Muž",
          "Muž",
          "Muž",
          "Žena",
          "Žena",
          "Muž",
          "Žena",
          "Žena",
          "Žena",
          "Žena",
          "Žena",
          "Muž",
          "Žena",
          "Muž",
          "Žena",
          "Muž",
          "Žena",
          "Muž",
          "Žena",
          "Muž",
          "Žena",
          "Muž",
          "Žena",
          "Muž",
          "Muž",
          "Žena",
          "Žena",
          "Muž",
          "Žena",
          "Muž",
          "Muž",
          "Muž",
          "Žena",
          "Muž",
          "Muž",
          "Žena",
          "Žena",
          "Žena",
          "Žena",
          "Muž",
          "Muž",
          "Muž",
          "Muž",
          "Žena",
          "Muž",
          "Muž",
          "Žena",
          "Muž",
          "Muž",
          "Muž",
          "Muž",
          "Muž",
          "Muž",
          "Žena",
          "Žena",
          "Muž",
          "Muž",
          "Žena",
          "Muž",
          "Muž",
          "Muž",
          "Žena",
          "Muž",
          "Žena",
          "Muž",
          "Žena",
          "Žena",
          "Muž",
          "Žena",
          "Muž",
          "Žena",
          "Muž",
          "Muž",
          "Žena",
          "Muž",
          "Muž",
          "Žena",
          "Muž",
          "Muž",
          "Žena",
          "Žena",
          "Muž",
          "Muž",
          "Žena",
          "Žena",
          "Muž",
          "Žena",
          "Muž",
          "Muž",
          "Muž",
          "Muž",
          "Muž",
          "Žena",
          "Žena",
          "Žena",
          "Žena",
          "Muž",
          "Muž",
          "Muž",
          "Muž",
          "Žena",
          "Muž",
          "Muž",
          "Žena",
          "Žena",
          "Žena",
          "Žena",
          "Muž",
          "Muž",
          "Žena",
          "Muž",
          "Muž",
          "Muž",
          "Žena",
          "Muž",
          "Žena",
          "Muž",
          "Muž",
          "Muž",
          "Žena",
          "Muž",
          "Žena",
          "Žena",
          "Žena",
          "Muž",
          "Muž",
          "Muž",
          "Muž",
          "Žena",
          "Žena",
          "Žena",
          "Muž",
          "Žena",
          "Muž",
          "Žena",
          "Muž",
          "Muž",
          "Žena",
          "Žena",
          "Žena",
          "Žena",
          "Muž",
          "Žena",
          "Žena",
          "Žena",
          "Muž",
          "Muž",
          "Žena",
          "Muž",
          "Žena",
          "Muž",
          "Muž",
          "Muž",
          "Muž",
          "Žena",
          "Žena",
          "Žena",
          "Muž",
          "Žena",
          "Žena",
          "Žena",
          "Muž",
          "Muž",
          "Muž",
          "Žena",
          "Žena",
          "Žena",
          "Muž",
          "Muž",
          "Žena",
          "Muž",
          "Muž",
          "Muž",
          "Muž",
          "Žena",
          "Muž",
          "Muž",
          "Muž",
          "Muž",
          "Žena",
          "Žena",
          "Muž",
          "Muž",
          "Muž",
          "Muž",
          "Muž",
          "Muž",
          "Žena",
          "Muž",
          "Žena",
          "Žena",
          "Muž",
          "Žena",
          "Žena",
          "Žena",
          "Žena",
          "Žena",
          "Žena",
          "Muž",
          "Žena",
          "Žena",
          "Žena",
          "Muž",
          "Žena",
          "Muž",
          "Žena",
          "Muž",
          "Muž",
          "Žena",
          "Žena",
          "Muž",
          "Žena",
          "Muž",
          "Muž",
          "Muž",
          "Muž",
          "Muž",
          "Žena",
          "Muž",
          "Muž",
          "Žena",
          "Muž",
          "Žena",
          "Žena",
          "Žena",
          "Muž",
          "Muž",
          "Muž",
          "Žena",
          "Muž",
          "Žena",
          "Muž",
          "Žena",
          "Muž",
          "Muž",
          "Muž",
          "Žena",
          "Žena",
          "Muž",
          "Muž",
          "Žena",
          "Žena",
          "Žena",
          "Muž",
          "Žena",
          "Muž",
          "Žena",
          "Muž",
          "Žena",
          "Žena",
          "Žena",
          "Žena",
          "Žena",
          "Muž",
          "Žena",
          "Žena",
          "Žena",
          "Muž",
          "Žena",
          "Muž",
          "Žena",
          "Žena",
          "Muž",
          "Žena",
          "Muž",
          "Muž",
          "Žena",
          "Muž",
          "Žena",
          "Žena",
          "Muž",
          "Muž",
          "Muž",
          "Muž",
          "Žena",
          "Žena",
          "Muž",
          "Žena",
          "Žena",
          "Žena",
          "Žena",
          "Muž",
          "Muž",
          "Žena",
          "Muž",
          "Muž",
          "Muž",
          "Žena",
          "Žena",
          "Žena",
          "Muž",
          "Žena",
          "Žena",
          "Muž",
          "Žena",
          "Žena",
          "Muž",
          "Muž",
          "Muž",
          "Žena",
          "Žena",
          "Žena",
          "Muž",
          "Muž",
          "Žena",
          "Žena",
          "Muž",
          "Muž",
          "Muž",
          "Muž",
          "Žena",
          "Muž",
          "Žena",
          "Žena",
          "Žena",
          "Muž",
          "Muž",
          "Muž",
          "Muž",
          "Žena",
          "Muž",
          "Muž",
          "Žena",
          "Muž",
          "Žena",
          "Žena",
          "Žena",
          "Žena",
          "Žena",
          "Žena",
          "Žena",
          "Žena",
          "Muž",
          "Muž",
          "Muž",
          "Muž",
          "Žena",
          "Muž",
          "Žena",
          "Muž",
          "Muž",
          "Muž",
          "Žena",
          "Muž",
          "Žena",
          "Žena",
          "Muž",
          "Muž",
          "Muž",
          "Žena",
          "Muž",
          "Žena",
          "Žena",
          "Muž",
          "Muž",
          "Žena",
          "Žena",
          "Žena",
          "Muž",
          "Žena",
          "Muž",
          "Žena",
          "Žena",
          "Muž",
          "Žena",
          "Muž",
          "Muž",
          "Žena",
          "Muž",
          "Muž",
          "Žena",
          "Muž",
          "Muž",
          "Muž",
          "Žena",
          "Muž",
          "Žena",
          "Žena",
          "Muž",
          "Muž",
          "Muž",
          "Žena",
          "Muž",
          "Muž",
          "Muž",
          "Muž",
          "Muž",
          "Žena",
          "Žena",
          "Muž",
          "Muž",
          "Muž",
          "Muž",
          "Žena",
          "Muž",
          "Žena",
          "Žena",
          "Muž",
          "Žena",
          "Žena",
          "Žena",
          "Žena",
          "Muž",
          "Muž",
          "Žena",
          "Muž",
          "Muž",
          "Muž",
          "Muž",
          "Muž",
          "Žena",
          "Muž",
          "Muž",
          "Muž",
          "Muž",
          "Žena",
          "Žena",
          "Žena",
          "Žena",
          "Muž",
          "Žena",
          "Muž",
          "Muž",
          "Muž",
          "Muž",
          "Muž",
          "Žena",
          "Žena",
          "Žena",
          "Žena",
          "Muž",
          "Žena",
          "Muž",
          "Žena",
          "Muž",
          "Muž",
          "Žena",
          "Muž",
          "Muž",
          "Žena",
          "Muž",
          "Žena",
          "Žena",
          "Žena",
          "Muž",
          "Muž",
          "Muž",
          "Žena",
          "Muž",
          "Žena",
          "Žena",
          "Muž",
          "Žena",
          "Muž",
          "Muž",
          "Muž",
          "Muž",
          "Muž",
          "Žena",
          "Žena",
          "Žena",
          "Muž",
          "Muž",
          "Muž",
          "Žena",
          "Muž",
          "Žena",
          "Žena",
          "Muž",
          "Muž",
          "Žena",
          "Muž",
          "Žena",
          "Muž",
          "Muž",
          "Žena",
          "Muž",
          "Žena",
          "Muž",
          "Žena",
          "Žena",
          "Muž",
          "Žena",
          "Muž",
          "Muž",
          "Muž",
          "Žena",
          "Žena",
          "Muž",
          "Muž",
          "Žena",
          "Muž",
          "Muž",
          "Žena",
          "Muž",
          "Žena",
          "Muž",
          "Žena",
          "Muž",
          "Muž",
          "Žena",
          "Muž",
          "Žena",
          "Muž",
          "Žena",
          "Žena",
          "Žena",
          "Žena",
          "Muž",
          "Muž",
          "Žena",
          "Žena",
          "Žena",
          "Muž",
          "Muž",
          "Muž",
          "Muž",
          "Žena",
          "Žena",
          "Žena",
          "Muž",
          "Muž",
          "Muž",
          "Žena",
          "Žena",
          "Muž",
          "Žena",
          "Muž",
          "Muž",
          "Žena",
          "Muž",
          "Žena",
          "Muž",
          "Žena",
          "Žena",
          "Žena",
          "Muž",
          "Muž",
          "Žena",
          "Žena",
          "Muž",
          "Muž",
          "Muž",
          "Žena",
          "Muž",
          "Muž",
          "Žena",
          "Muž",
          "Muž",
          "Muž",
          "Žena",
          "Žena",
          "Žena",
          "Žena",
          "Žena",
          "Žena",
          "Žena",
          "Muž",
          "Muž",
          "Žena",
          "Muž",
          "Muž",
          "Žena",
          "Muž",
          "Muž",
          "Muž",
          "Muž",
          "Muž",
          "Žena",
          "Žena",
          "Žena",
          "Muž",
          "Žena",
          "Muž",
          "Muž",
          "Muž",
          "Muž",
          "Žena",
          "Žena",
          "Muž",
          "Žena",
          "Muž",
          "Žena",
          "Žena",
          "Muž",
          "Žena",
          "Muž",
          "Žena",
          "Muž",
          "Muž",
          "Žena",
          "Žena",
          "Muž",
          "Žena",
          "Žena",
          "Muž",
          "Muž",
          "Žena",
          "Muž",
          "Muž",
          "Muž",
          "Žena",
          "Žena",
          "Muž",
          "Žena",
          "Muž",
          "Žena",
          "Muž",
          "Muž",
          "Žena",
          "Muž",
          "Žena",
          "Žena",
          "Muž",
          "Muž",
          "Žena",
          "Muž",
          "Muž",
          "Muž",
          "Muž",
          "Muž",
          "Žena",
          "Žena",
          "Muž",
          "Muž",
          "Muž",
          "Žena",
          "Muž",
          "Žena",
          "Žena",
          "Žena",
          "Muž",
          "Žena",
          "Muž",
          "Žena",
          "Muž",
          "Žena",
          "Muž",
          "Žena",
          "Muž",
          "Muž",
          "Muž",
          "Muž",
          "Žena",
          "Žena",
          "Muž",
          "Žena",
          "Muž",
          "Muž",
          "Žena",
          "Muž",
          "Muž",
          "Žena",
          "Muž",
          "Muž",
          "Muž",
          "Muž",
          "Žena",
          "Žena",
          "Žena",
          "Muž",
          "Muž",
          "Žena",
          "Muž",
          "Muž",
          "Muž",
          "Muž",
          "Žena",
          "Žena",
          "Žena",
          "Muž",
          "Žena",
          "Žena",
          "Muž",
          "Muž",
          "Žena",
          "Žena",
          "Žena",
          "Žena",
          "Muž",
          "Žena",
          "Žena",
          "Muž",
          "Žena",
          "Muž",
          "Muž"
         ],
         "x0": " ",
         "xaxis": "x",
         "y": [
          56,
          69,
          46,
          32,
          60,
          25,
          38,
          56,
          36,
          40,
          28,
          28,
          41,
          53,
          57,
          41,
          20,
          39,
          19,
          41,
          61,
          47,
          55,
          19,
          38,
          50,
          29,
          39,
          61,
          42,
          66,
          44,
          59,
          45,
          33,
          32,
          64,
          68,
          61,
          69,
          20,
          54,
          68,
          24,
          38,
          26,
          56,
          35,
          21,
          42,
          31,
          67,
          26,
          43,
          19,
          37,
          45,
          64,
          24,
          61,
          25,
          64,
          52,
          31,
          34,
          53,
          67,
          57,
          21,
          19,
          23,
          59,
          21,
          46,
          35,
          43,
          61,
          51,
          27,
          53,
          31,
          48,
          65,
          32,
          25,
          31,
          40,
          57,
          38,
          33,
          62,
          35,
          64,
          41,
          43,
          42,
          62,
          58,
          46,
          32,
          62,
          18,
          42,
          24,
          26,
          41,
          18,
          61,
          25,
          41,
          28,
          68,
          34,
          25,
          52,
          52,
          50,
          22,
          59,
          56,
          58,
          45,
          24,
          26,
          25,
          29,
          51,
          50,
          65,
          40,
          41,
          54,
          52,
          61,
          57,
          39,
          44,
          52,
          18,
          52,
          54,
          64,
          31,
          20,
          18,
          22,
          43,
          31,
          56,
          44,
          26,
          32,
          32,
          43,
          59,
          30,
          68,
          49,
          56,
          66,
          69,
          49,
          21,
          47,
          54,
          40,
          56,
          62,
          32,
          60,
          46,
          53,
          30,
          49,
          24,
          68,
          39,
          45,
          19,
          59,
          62,
          23,
          45,
          45,
          61,
          61,
          37,
          47,
          28,
          45,
          42,
          56,
          50,
          18,
          44,
          69,
          30,
          58,
          20,
          56,
          23,
          25,
          44,
          26,
          54,
          50,
          68,
          59,
          61,
          41,
          32,
          49,
          49,
          41,
          58,
          69,
          66,
          66,
          69,
          29,
          56,
          19,
          20,
          66,
          54,
          66,
          34,
          66,
          19,
          19,
          45,
          40,
          54,
          49,
          50,
          18,
          36,
          19,
          61,
          43,
          49,
          23,
          49,
          21,
          28,
          34,
          55,
          41,
          22,
          69,
          51,
          23,
          39,
          28,
          65,
          33,
          50,
          26,
          23,
          33,
          46,
          20,
          37,
          53,
          36,
          43,
          20,
          36,
          37,
          49,
          24,
          69,
          58,
          50,
          57,
          56,
          35,
          57,
          18,
          28,
          45,
          42,
          67,
          40,
          48,
          47,
          59,
          52,
          24,
          33,
          43,
          65,
          69,
          66,
          19,
          18,
          65,
          29,
          22,
          54,
          49,
          26,
          58,
          52,
          36,
          65,
          33,
          20,
          37,
          41,
          50,
          41,
          69,
          28,
          66,
          25,
          53,
          55,
          57,
          37,
          52,
          65,
          42,
          52,
          42,
          46,
          35,
          63,
          35,
          19,
          52,
          33,
          58,
          53,
          50,
          21,
          50,
          31,
          38,
          65,
          37,
          25,
          24,
          20,
          34,
          50,
          65,
          29,
          68,
          39,
          39,
          63,
          47,
          55,
          55,
          62,
          68,
          25,
          44,
          44,
          51,
          38,
          47,
          50,
          45,
          64,
          50,
          22,
          65,
          36,
          21,
          52,
          66,
          34,
          61,
          45,
          47,
          46,
          63,
          23,
          52,
          58,
          54,
          41,
          46,
          66,
          63,
          48,
          52,
          50,
          69,
          38,
          49,
          40,
          50,
          20,
          35,
          42,
          59,
          48,
          20,
          57,
          63,
          41,
          67,
          49,
          64,
          39,
          40,
          19,
          44,
          59,
          19,
          43,
          34,
          57,
          50,
          26,
          60,
          65,
          56,
          46,
          59,
          43,
          52,
          67,
          42,
          41,
          30,
          24,
          53,
          62,
          37,
          18,
          25,
          63,
          33,
          31,
          29,
          68,
          40,
          32,
          45,
          51,
          19,
          49,
          40,
          39,
          68,
          42,
          39,
          39,
          66,
          69,
          59,
          23,
          32,
          60,
          54,
          50,
          25,
          61,
          61,
          22,
          56,
          21,
          23,
          62,
          49,
          69,
          47,
          64,
          52,
          57,
          69,
          33,
          30,
          67,
          59,
          47,
          36,
          34,
          36,
          45,
          43,
          54,
          43,
          40,
          26,
          29,
          18,
          18,
          64,
          51,
          49,
          65,
          42,
          57,
          62,
          18,
          33,
          56,
          22,
          39,
          46,
          20,
          29,
          43,
          33,
          68,
          54,
          39,
          46,
          31,
          45,
          22,
          64,
          66,
          47,
          63,
          69,
          22,
          29,
          33,
          43,
          43,
          65,
          38,
          56,
          53,
          50,
          47,
          54,
          40,
          27,
          22,
          53,
          51,
          69,
          48,
          27,
          36,
          49,
          18,
          22,
          62,
          21,
          33,
          41,
          33,
          19,
          66,
          45,
          49,
          44,
          37,
          41,
          29,
          67,
          52,
          50,
          50,
          68,
          60,
          54,
          29,
          20,
          18,
          50,
          57,
          27,
          60,
          61,
          46,
          30,
          29,
          48,
          63,
          19,
          68,
          67,
          52,
          40,
          34,
          43,
          25,
          46,
          43,
          27,
          43,
          51,
          68,
          58,
          24,
          21,
          67,
          62,
          28,
          46,
          53,
          42,
          38,
          53,
          27,
          54,
          26,
          41,
          52,
          66,
          52,
          65,
          53,
          35,
          66,
          56,
          49,
          41,
          40,
          49,
          54,
          29,
          66,
          30,
          40,
          42,
          52,
          58,
          47,
          34,
          66,
          37,
          65,
          42,
          39,
          30,
          36,
          66,
          53,
          29,
          58,
          36,
          29,
          26,
          24,
          45,
          31,
          48,
          69,
          36,
          64,
          33,
          22,
          52,
          29,
          42,
          69,
          38,
          53,
          40,
          33,
          56,
          62,
          59,
          56,
          31,
          48,
          22,
          52,
          40,
          46,
          60,
          28,
          35,
          64,
          29,
          26,
          27,
          61,
          34,
          55,
          24,
          63,
          30,
          57,
          59,
          26,
          67,
          44,
          19,
          22,
          46,
          54,
          55,
          36,
          25,
          65,
          62,
          18,
          39,
          69,
          34,
          24,
          42,
          62,
          21,
          53,
          23,
          48,
          36,
          61,
          56,
          44,
          27,
          43,
          36,
          56,
          20,
          62,
          30,
          67,
          45,
          37,
          45,
          25,
          58,
          56,
          18,
          20,
          30,
          45,
          66,
          42,
          50,
          55,
          23,
          61,
          62,
          49,
          62,
          64,
          38,
          33,
          38,
          28,
          54,
          53,
          52,
          36,
          37,
          35,
          64,
          58,
          66,
          31,
          32,
          48,
          18,
          20,
          33,
          40,
          28,
          29,
          27,
          49,
          33,
          25,
          55,
          29,
          41,
          45,
          25,
          45,
          53,
          43,
          25,
          67,
          45,
          45,
          54,
          58,
          53,
          44,
          34,
          26,
          50,
          37,
          30,
          45,
          65,
          46,
          30,
          63,
          52,
          23,
          35,
          68,
          22,
          64,
          42,
          19,
          27,
          47,
          67,
          62,
          22,
          50,
          18,
          35,
          49,
          64,
          66,
          28,
          38,
          43,
          42,
          39,
          44,
          66,
          30,
          50,
          51,
          58,
          52,
          18,
          38,
          65,
          23,
          45,
          34,
          22,
          48,
          22,
          55,
          20,
          40,
          54,
          54,
          27,
          27,
          36,
          34,
          38,
          31,
          26,
          63,
          18,
          68,
          62,
          30,
          21,
          18,
          66,
          57,
          49,
          51,
          45,
          48,
          25,
          56,
          43,
          51,
          20,
          67,
          29,
          18,
          61,
          22,
          47,
          47,
          34,
          65,
          64,
          40,
          32,
          54,
          38,
          31,
          19,
          28,
          68,
          56,
          55,
          51,
          55,
          67,
          51,
          35,
          47,
          32,
          44,
          68,
          51,
          69,
          55,
          50,
          41,
          32,
          47,
          59,
          68,
          34,
          22,
          46,
          21,
          27,
          34,
          27,
          34,
          37,
          41,
          22,
          51,
          23,
          19,
          30,
          60,
          60,
          65,
          28,
          68,
          64,
          40,
          33,
          48,
          28,
          33,
          25,
          21,
          57,
          21,
          42,
          20,
          49,
          20,
          44,
          46,
          49,
          67,
          68,
          36,
          38,
          22,
          35,
          45,
          59,
          39,
          38,
          23,
          18,
          22,
          58,
          29,
          43,
          63,
          51,
          66,
          31,
          43,
          62,
          44,
          26,
          43,
          64,
          39,
          64,
          47,
          60,
          65,
          34,
          43,
          53,
          18,
          25,
          66,
          52,
          69,
          32,
          64,
          39,
          31,
          43,
          45,
          40,
          31,
          41,
          19,
          62,
          43,
          31,
          68,
          24,
          20,
          64,
          40,
          63,
          60,
          64,
          62,
          35,
          55
         ],
         "y0": " ",
         "yaxis": "y"
        }
       ],
       "layout": {
        "boxmode": "group",
        "legend": {
         "tracegroupgap": 0
        },
        "template": {
         "data": {
          "bar": [
           {
            "error_x": {
             "color": "#2a3f5f"
            },
            "error_y": {
             "color": "#2a3f5f"
            },
            "marker": {
             "line": {
              "color": "#E5ECF6",
              "width": 0.5
             },
             "pattern": {
              "fillmode": "overlay",
              "size": 10,
              "solidity": 0.2
             }
            },
            "type": "bar"
           }
          ],
          "barpolar": [
           {
            "marker": {
             "line": {
              "color": "#E5ECF6",
              "width": 0.5
             },
             "pattern": {
              "fillmode": "overlay",
              "size": 10,
              "solidity": 0.2
             }
            },
            "type": "barpolar"
           }
          ],
          "carpet": [
           {
            "aaxis": {
             "endlinecolor": "#2a3f5f",
             "gridcolor": "white",
             "linecolor": "white",
             "minorgridcolor": "white",
             "startlinecolor": "#2a3f5f"
            },
            "baxis": {
             "endlinecolor": "#2a3f5f",
             "gridcolor": "white",
             "linecolor": "white",
             "minorgridcolor": "white",
             "startlinecolor": "#2a3f5f"
            },
            "type": "carpet"
           }
          ],
          "choropleth": [
           {
            "colorbar": {
             "outlinewidth": 0,
             "ticks": ""
            },
            "type": "choropleth"
           }
          ],
          "contour": [
           {
            "colorbar": {
             "outlinewidth": 0,
             "ticks": ""
            },
            "colorscale": [
             [
              0,
              "#0d0887"
             ],
             [
              0.1111111111111111,
              "#46039f"
             ],
             [
              0.2222222222222222,
              "#7201a8"
             ],
             [
              0.3333333333333333,
              "#9c179e"
             ],
             [
              0.4444444444444444,
              "#bd3786"
             ],
             [
              0.5555555555555556,
              "#d8576b"
             ],
             [
              0.6666666666666666,
              "#ed7953"
             ],
             [
              0.7777777777777778,
              "#fb9f3a"
             ],
             [
              0.8888888888888888,
              "#fdca26"
             ],
             [
              1,
              "#f0f921"
             ]
            ],
            "type": "contour"
           }
          ],
          "contourcarpet": [
           {
            "colorbar": {
             "outlinewidth": 0,
             "ticks": ""
            },
            "type": "contourcarpet"
           }
          ],
          "heatmap": [
           {
            "colorbar": {
             "outlinewidth": 0,
             "ticks": ""
            },
            "colorscale": [
             [
              0,
              "#0d0887"
             ],
             [
              0.1111111111111111,
              "#46039f"
             ],
             [
              0.2222222222222222,
              "#7201a8"
             ],
             [
              0.3333333333333333,
              "#9c179e"
             ],
             [
              0.4444444444444444,
              "#bd3786"
             ],
             [
              0.5555555555555556,
              "#d8576b"
             ],
             [
              0.6666666666666666,
              "#ed7953"
             ],
             [
              0.7777777777777778,
              "#fb9f3a"
             ],
             [
              0.8888888888888888,
              "#fdca26"
             ],
             [
              1,
              "#f0f921"
             ]
            ],
            "type": "heatmap"
           }
          ],
          "heatmapgl": [
           {
            "colorbar": {
             "outlinewidth": 0,
             "ticks": ""
            },
            "colorscale": [
             [
              0,
              "#0d0887"
             ],
             [
              0.1111111111111111,
              "#46039f"
             ],
             [
              0.2222222222222222,
              "#7201a8"
             ],
             [
              0.3333333333333333,
              "#9c179e"
             ],
             [
              0.4444444444444444,
              "#bd3786"
             ],
             [
              0.5555555555555556,
              "#d8576b"
             ],
             [
              0.6666666666666666,
              "#ed7953"
             ],
             [
              0.7777777777777778,
              "#fb9f3a"
             ],
             [
              0.8888888888888888,
              "#fdca26"
             ],
             [
              1,
              "#f0f921"
             ]
            ],
            "type": "heatmapgl"
           }
          ],
          "histogram": [
           {
            "marker": {
             "pattern": {
              "fillmode": "overlay",
              "size": 10,
              "solidity": 0.2
             }
            },
            "type": "histogram"
           }
          ],
          "histogram2d": [
           {
            "colorbar": {
             "outlinewidth": 0,
             "ticks": ""
            },
            "colorscale": [
             [
              0,
              "#0d0887"
             ],
             [
              0.1111111111111111,
              "#46039f"
             ],
             [
              0.2222222222222222,
              "#7201a8"
             ],
             [
              0.3333333333333333,
              "#9c179e"
             ],
             [
              0.4444444444444444,
              "#bd3786"
             ],
             [
              0.5555555555555556,
              "#d8576b"
             ],
             [
              0.6666666666666666,
              "#ed7953"
             ],
             [
              0.7777777777777778,
              "#fb9f3a"
             ],
             [
              0.8888888888888888,
              "#fdca26"
             ],
             [
              1,
              "#f0f921"
             ]
            ],
            "type": "histogram2d"
           }
          ],
          "histogram2dcontour": [
           {
            "colorbar": {
             "outlinewidth": 0,
             "ticks": ""
            },
            "colorscale": [
             [
              0,
              "#0d0887"
             ],
             [
              0.1111111111111111,
              "#46039f"
             ],
             [
              0.2222222222222222,
              "#7201a8"
             ],
             [
              0.3333333333333333,
              "#9c179e"
             ],
             [
              0.4444444444444444,
              "#bd3786"
             ],
             [
              0.5555555555555556,
              "#d8576b"
             ],
             [
              0.6666666666666666,
              "#ed7953"
             ],
             [
              0.7777777777777778,
              "#fb9f3a"
             ],
             [
              0.8888888888888888,
              "#fdca26"
             ],
             [
              1,
              "#f0f921"
             ]
            ],
            "type": "histogram2dcontour"
           }
          ],
          "mesh3d": [
           {
            "colorbar": {
             "outlinewidth": 0,
             "ticks": ""
            },
            "type": "mesh3d"
           }
          ],
          "parcoords": [
           {
            "line": {
             "colorbar": {
              "outlinewidth": 0,
              "ticks": ""
             }
            },
            "type": "parcoords"
           }
          ],
          "pie": [
           {
            "automargin": true,
            "type": "pie"
           }
          ],
          "scatter": [
           {
            "fillpattern": {
             "fillmode": "overlay",
             "size": 10,
             "solidity": 0.2
            },
            "type": "scatter"
           }
          ],
          "scatter3d": [
           {
            "line": {
             "colorbar": {
              "outlinewidth": 0,
              "ticks": ""
             }
            },
            "marker": {
             "colorbar": {
              "outlinewidth": 0,
              "ticks": ""
             }
            },
            "type": "scatter3d"
           }
          ],
          "scattercarpet": [
           {
            "marker": {
             "colorbar": {
              "outlinewidth": 0,
              "ticks": ""
             }
            },
            "type": "scattercarpet"
           }
          ],
          "scattergeo": [
           {
            "marker": {
             "colorbar": {
              "outlinewidth": 0,
              "ticks": ""
             }
            },
            "type": "scattergeo"
           }
          ],
          "scattergl": [
           {
            "marker": {
             "colorbar": {
              "outlinewidth": 0,
              "ticks": ""
             }
            },
            "type": "scattergl"
           }
          ],
          "scattermapbox": [
           {
            "marker": {
             "colorbar": {
              "outlinewidth": 0,
              "ticks": ""
             }
            },
            "type": "scattermapbox"
           }
          ],
          "scatterpolar": [
           {
            "marker": {
             "colorbar": {
              "outlinewidth": 0,
              "ticks": ""
             }
            },
            "type": "scatterpolar"
           }
          ],
          "scatterpolargl": [
           {
            "marker": {
             "colorbar": {
              "outlinewidth": 0,
              "ticks": ""
             }
            },
            "type": "scatterpolargl"
           }
          ],
          "scatterternary": [
           {
            "marker": {
             "colorbar": {
              "outlinewidth": 0,
              "ticks": ""
             }
            },
            "type": "scatterternary"
           }
          ],
          "surface": [
           {
            "colorbar": {
             "outlinewidth": 0,
             "ticks": ""
            },
            "colorscale": [
             [
              0,
              "#0d0887"
             ],
             [
              0.1111111111111111,
              "#46039f"
             ],
             [
              0.2222222222222222,
              "#7201a8"
             ],
             [
              0.3333333333333333,
              "#9c179e"
             ],
             [
              0.4444444444444444,
              "#bd3786"
             ],
             [
              0.5555555555555556,
              "#d8576b"
             ],
             [
              0.6666666666666666,
              "#ed7953"
             ],
             [
              0.7777777777777778,
              "#fb9f3a"
             ],
             [
              0.8888888888888888,
              "#fdca26"
             ],
             [
              1,
              "#f0f921"
             ]
            ],
            "type": "surface"
           }
          ],
          "table": [
           {
            "cells": {
             "fill": {
              "color": "#EBF0F8"
             },
             "line": {
              "color": "white"
             }
            },
            "header": {
             "fill": {
              "color": "#C8D4E3"
             },
             "line": {
              "color": "white"
             }
            },
            "type": "table"
           }
          ]
         },
         "layout": {
          "annotationdefaults": {
           "arrowcolor": "#2a3f5f",
           "arrowhead": 0,
           "arrowwidth": 1
          },
          "autotypenumbers": "strict",
          "coloraxis": {
           "colorbar": {
            "outlinewidth": 0,
            "ticks": ""
           }
          },
          "colorscale": {
           "diverging": [
            [
             0,
             "#8e0152"
            ],
            [
             0.1,
             "#c51b7d"
            ],
            [
             0.2,
             "#de77ae"
            ],
            [
             0.3,
             "#f1b6da"
            ],
            [
             0.4,
             "#fde0ef"
            ],
            [
             0.5,
             "#f7f7f7"
            ],
            [
             0.6,
             "#e6f5d0"
            ],
            [
             0.7,
             "#b8e186"
            ],
            [
             0.8,
             "#7fbc41"
            ],
            [
             0.9,
             "#4d9221"
            ],
            [
             1,
             "#276419"
            ]
           ],
           "sequential": [
            [
             0,
             "#0d0887"
            ],
            [
             0.1111111111111111,
             "#46039f"
            ],
            [
             0.2222222222222222,
             "#7201a8"
            ],
            [
             0.3333333333333333,
             "#9c179e"
            ],
            [
             0.4444444444444444,
             "#bd3786"
            ],
            [
             0.5555555555555556,
             "#d8576b"
            ],
            [
             0.6666666666666666,
             "#ed7953"
            ],
            [
             0.7777777777777778,
             "#fb9f3a"
            ],
            [
             0.8888888888888888,
             "#fdca26"
            ],
            [
             1,
             "#f0f921"
            ]
           ],
           "sequentialminus": [
            [
             0,
             "#0d0887"
            ],
            [
             0.1111111111111111,
             "#46039f"
            ],
            [
             0.2222222222222222,
             "#7201a8"
            ],
            [
             0.3333333333333333,
             "#9c179e"
            ],
            [
             0.4444444444444444,
             "#bd3786"
            ],
            [
             0.5555555555555556,
             "#d8576b"
            ],
            [
             0.6666666666666666,
             "#ed7953"
            ],
            [
             0.7777777777777778,
             "#fb9f3a"
            ],
            [
             0.8888888888888888,
             "#fdca26"
            ],
            [
             1,
             "#f0f921"
            ]
           ]
          },
          "colorway": [
           "#636efa",
           "#EF553B",
           "#00cc96",
           "#ab63fa",
           "#FFA15A",
           "#19d3f3",
           "#FF6692",
           "#B6E880",
           "#FF97FF",
           "#FECB52"
          ],
          "font": {
           "color": "#2a3f5f"
          },
          "geo": {
           "bgcolor": "white",
           "lakecolor": "white",
           "landcolor": "#E5ECF6",
           "showlakes": true,
           "showland": true,
           "subunitcolor": "white"
          },
          "hoverlabel": {
           "align": "left"
          },
          "hovermode": "closest",
          "mapbox": {
           "style": "light"
          },
          "paper_bgcolor": "white",
          "plot_bgcolor": "#E5ECF6",
          "polar": {
           "angularaxis": {
            "gridcolor": "white",
            "linecolor": "white",
            "ticks": ""
           },
           "bgcolor": "#E5ECF6",
           "radialaxis": {
            "gridcolor": "white",
            "linecolor": "white",
            "ticks": ""
           }
          },
          "scene": {
           "xaxis": {
            "backgroundcolor": "#E5ECF6",
            "gridcolor": "white",
            "gridwidth": 2,
            "linecolor": "white",
            "showbackground": true,
            "ticks": "",
            "zerolinecolor": "white"
           },
           "yaxis": {
            "backgroundcolor": "#E5ECF6",
            "gridcolor": "white",
            "gridwidth": 2,
            "linecolor": "white",
            "showbackground": true,
            "ticks": "",
            "zerolinecolor": "white"
           },
           "zaxis": {
            "backgroundcolor": "#E5ECF6",
            "gridcolor": "white",
            "gridwidth": 2,
            "linecolor": "white",
            "showbackground": true,
            "ticks": "",
            "zerolinecolor": "white"
           }
          },
          "shapedefaults": {
           "line": {
            "color": "#2a3f5f"
           }
          },
          "ternary": {
           "aaxis": {
            "gridcolor": "white",
            "linecolor": "white",
            "ticks": ""
           },
           "baxis": {
            "gridcolor": "white",
            "linecolor": "white",
            "ticks": ""
           },
           "bgcolor": "#E5ECF6",
           "caxis": {
            "gridcolor": "white",
            "linecolor": "white",
            "ticks": ""
           }
          },
          "title": {
           "x": 0.05
          },
          "xaxis": {
           "automargin": true,
           "gridcolor": "white",
           "linecolor": "white",
           "ticks": "",
           "title": {
            "standoff": 15
           },
           "zerolinecolor": "white",
           "zerolinewidth": 2
          },
          "yaxis": {
           "automargin": true,
           "gridcolor": "white",
           "linecolor": "white",
           "ticks": "",
           "title": {
            "standoff": 15
           },
           "zerolinecolor": "white",
           "zerolinewidth": 2
          }
         }
        },
        "title": {
         "text": "Age Distribution by Gender"
        },
        "xaxis": {
         "anchor": "y",
         "domain": [
          0,
          1
         ],
         "title": {
          "text": "Gender"
         }
        },
        "yaxis": {
         "anchor": "x",
         "domain": [
          0,
          1
         ],
         "title": {
          "text": "Age"
         }
        }
       }
      }
     },
     "metadata": {},
     "output_type": "display_data"
    },
    {
     "data": {
      "application/vnd.plotly.v1+json": {
       "config": {
        "plotlyServerURL": "https://plot.ly"
       },
       "data": [
        {
         "hovertemplate": "Age=%{x}<br>Question 3=%{y}<extra></extra>",
         "legendgroup": "",
         "marker": {
          "color": "#636efa",
          "symbol": "circle"
         },
         "mode": "markers",
         "name": "",
         "orientation": "v",
         "showlegend": false,
         "type": "scatter",
         "x": [
          56,
          69,
          46,
          32,
          60,
          25,
          38,
          56,
          36,
          40,
          28,
          28,
          41,
          53,
          57,
          41,
          20,
          39,
          19,
          41,
          61,
          47,
          55,
          19,
          38,
          50,
          29,
          39,
          61,
          42,
          66,
          44,
          59,
          45,
          33,
          32,
          64,
          68,
          61,
          69,
          20,
          54,
          68,
          24,
          38,
          26,
          56,
          35,
          21,
          42,
          31,
          67,
          26,
          43,
          19,
          37,
          45,
          64,
          24,
          61,
          25,
          64,
          52,
          31,
          34,
          53,
          67,
          57,
          21,
          19,
          23,
          59,
          21,
          46,
          35,
          43,
          61,
          51,
          27,
          53,
          31,
          48,
          65,
          32,
          25,
          31,
          40,
          57,
          38,
          33,
          62,
          35,
          64,
          41,
          43,
          42,
          62,
          58,
          46,
          32,
          62,
          18,
          42,
          24,
          26,
          41,
          18,
          61,
          25,
          41,
          28,
          68,
          34,
          25,
          52,
          52,
          50,
          22,
          59,
          56,
          58,
          45,
          24,
          26,
          25,
          29,
          51,
          50,
          65,
          40,
          41,
          54,
          52,
          61,
          57,
          39,
          44,
          52,
          18,
          52,
          54,
          64,
          31,
          20,
          18,
          22,
          43,
          31,
          56,
          44,
          26,
          32,
          32,
          43,
          59,
          30,
          68,
          49,
          56,
          66,
          69,
          49,
          21,
          47,
          54,
          40,
          56,
          62,
          32,
          60,
          46,
          53,
          30,
          49,
          24,
          68,
          39,
          45,
          19,
          59,
          62,
          23,
          45,
          45,
          61,
          61,
          37,
          47,
          28,
          45,
          42,
          56,
          50,
          18,
          44,
          69,
          30,
          58,
          20,
          56,
          23,
          25,
          44,
          26,
          54,
          50,
          68,
          59,
          61,
          41,
          32,
          49,
          49,
          41,
          58,
          69,
          66,
          66,
          69,
          29,
          56,
          19,
          20,
          66,
          54,
          66,
          34,
          66,
          19,
          19,
          45,
          40,
          54,
          49,
          50,
          18,
          36,
          19,
          61,
          43,
          49,
          23,
          49,
          21,
          28,
          34,
          55,
          41,
          22,
          69,
          51,
          23,
          39,
          28,
          65,
          33,
          50,
          26,
          23,
          33,
          46,
          20,
          37,
          53,
          36,
          43,
          20,
          36,
          37,
          49,
          24,
          69,
          58,
          50,
          57,
          56,
          35,
          57,
          18,
          28,
          45,
          42,
          67,
          40,
          48,
          47,
          59,
          52,
          24,
          33,
          43,
          65,
          69,
          66,
          19,
          18,
          65,
          29,
          22,
          54,
          49,
          26,
          58,
          52,
          36,
          65,
          33,
          20,
          37,
          41,
          50,
          41,
          69,
          28,
          66,
          25,
          53,
          55,
          57,
          37,
          52,
          65,
          42,
          52,
          42,
          46,
          35,
          63,
          35,
          19,
          52,
          33,
          58,
          53,
          50,
          21,
          50,
          31,
          38,
          65,
          37,
          25,
          24,
          20,
          34,
          50,
          65,
          29,
          68,
          39,
          39,
          63,
          47,
          55,
          55,
          62,
          68,
          25,
          44,
          44,
          51,
          38,
          47,
          50,
          45,
          64,
          50,
          22,
          65,
          36,
          21,
          52,
          66,
          34,
          61,
          45,
          47,
          46,
          63,
          23,
          52,
          58,
          54,
          41,
          46,
          66,
          63,
          48,
          52,
          50,
          69,
          38,
          49,
          40,
          50,
          20,
          35,
          42,
          59,
          48,
          20,
          57,
          63,
          41,
          67,
          49,
          64,
          39,
          40,
          19,
          44,
          59,
          19,
          43,
          34,
          57,
          50,
          26,
          60,
          65,
          56,
          46,
          59,
          43,
          52,
          67,
          42,
          41,
          30,
          24,
          53,
          62,
          37,
          18,
          25,
          63,
          33,
          31,
          29,
          68,
          40,
          32,
          45,
          51,
          19,
          49,
          40,
          39,
          68,
          42,
          39,
          39,
          66,
          69,
          59,
          23,
          32,
          60,
          54,
          50,
          25,
          61,
          61,
          22,
          56,
          21,
          23,
          62,
          49,
          69,
          47,
          64,
          52,
          57,
          69,
          33,
          30,
          67,
          59,
          47,
          36,
          34,
          36,
          45,
          43,
          54,
          43,
          40,
          26,
          29,
          18,
          18,
          64,
          51,
          49,
          65,
          42,
          57,
          62,
          18,
          33,
          56,
          22,
          39,
          46,
          20,
          29,
          43,
          33,
          68,
          54,
          39,
          46,
          31,
          45,
          22,
          64,
          66,
          47,
          63,
          69,
          22,
          29,
          33,
          43,
          43,
          65,
          38,
          56,
          53,
          50,
          47,
          54,
          40,
          27,
          22,
          53,
          51,
          69,
          48,
          27,
          36,
          49,
          18,
          22,
          62,
          21,
          33,
          41,
          33,
          19,
          66,
          45,
          49,
          44,
          37,
          41,
          29,
          67,
          52,
          50,
          50,
          68,
          60,
          54,
          29,
          20,
          18,
          50,
          57,
          27,
          60,
          61,
          46,
          30,
          29,
          48,
          63,
          19,
          68,
          67,
          52,
          40,
          34,
          43,
          25,
          46,
          43,
          27,
          43,
          51,
          68,
          58,
          24,
          21,
          67,
          62,
          28,
          46,
          53,
          42,
          38,
          53,
          27,
          54,
          26,
          41,
          52,
          66,
          52,
          65,
          53,
          35,
          66,
          56,
          49,
          41,
          40,
          49,
          54,
          29,
          66,
          30,
          40,
          42,
          52,
          58,
          47,
          34,
          66,
          37,
          65,
          42,
          39,
          30,
          36,
          66,
          53,
          29,
          58,
          36,
          29,
          26,
          24,
          45,
          31,
          48,
          69,
          36,
          64,
          33,
          22,
          52,
          29,
          42,
          69,
          38,
          53,
          40,
          33,
          56,
          62,
          59,
          56,
          31,
          48,
          22,
          52,
          40,
          46,
          60,
          28,
          35,
          64,
          29,
          26,
          27,
          61,
          34,
          55,
          24,
          63,
          30,
          57,
          59,
          26,
          67,
          44,
          19,
          22,
          46,
          54,
          55,
          36,
          25,
          65,
          62,
          18,
          39,
          69,
          34,
          24,
          42,
          62,
          21,
          53,
          23,
          48,
          36,
          61,
          56,
          44,
          27,
          43,
          36,
          56,
          20,
          62,
          30,
          67,
          45,
          37,
          45,
          25,
          58,
          56,
          18,
          20,
          30,
          45,
          66,
          42,
          50,
          55,
          23,
          61,
          62,
          49,
          62,
          64,
          38,
          33,
          38,
          28,
          54,
          53,
          52,
          36,
          37,
          35,
          64,
          58,
          66,
          31,
          32,
          48,
          18,
          20,
          33,
          40,
          28,
          29,
          27,
          49,
          33,
          25,
          55,
          29,
          41,
          45,
          25,
          45,
          53,
          43,
          25,
          67,
          45,
          45,
          54,
          58,
          53,
          44,
          34,
          26,
          50,
          37,
          30,
          45,
          65,
          46,
          30,
          63,
          52,
          23,
          35,
          68,
          22,
          64,
          42,
          19,
          27,
          47,
          67,
          62,
          22,
          50,
          18,
          35,
          49,
          64,
          66,
          28,
          38,
          43,
          42,
          39,
          44,
          66,
          30,
          50,
          51,
          58,
          52,
          18,
          38,
          65,
          23,
          45,
          34,
          22,
          48,
          22,
          55,
          20,
          40,
          54,
          54,
          27,
          27,
          36,
          34,
          38,
          31,
          26,
          63,
          18,
          68,
          62,
          30,
          21,
          18,
          66,
          57,
          49,
          51,
          45,
          48,
          25,
          56,
          43,
          51,
          20,
          67,
          29,
          18,
          61,
          22,
          47,
          47,
          34,
          65,
          64,
          40,
          32,
          54,
          38,
          31,
          19,
          28,
          68,
          56,
          55,
          51,
          55,
          67,
          51,
          35,
          47,
          32,
          44,
          68,
          51,
          69,
          55,
          50,
          41,
          32,
          47,
          59,
          68,
          34,
          22,
          46,
          21,
          27,
          34,
          27,
          34,
          37,
          41,
          22,
          51,
          23,
          19,
          30,
          60,
          60,
          65,
          28,
          68,
          64,
          40,
          33,
          48,
          28,
          33,
          25,
          21,
          57,
          21,
          42,
          20,
          49,
          20,
          44,
          46,
          49,
          67,
          68,
          36,
          38,
          22,
          35,
          45,
          59,
          39,
          38,
          23,
          18,
          22,
          58,
          29,
          43,
          63,
          51,
          66,
          31,
          43,
          62,
          44,
          26,
          43,
          64,
          39,
          64,
          47,
          60,
          65,
          34,
          43,
          53,
          18,
          25,
          66,
          52,
          69,
          32,
          64,
          39,
          31,
          43,
          45,
          40,
          31,
          41,
          19,
          62,
          43,
          31,
          68,
          24,
          20,
          64,
          40,
          63,
          60,
          64,
          62,
          35,
          55
         ],
         "xaxis": "x",
         "y": [
          51.22843438540198,
          39.91335998833172,
          47.22683943434019,
          57.15162400760685,
          58.521788848080185,
          62.514564218142645,
          69.09418652293493,
          58.09889321661117,
          47.83263485595759,
          58.593137911229725,
          54.66716234005182,
          55.06366977526255,
          51.77218785071685,
          40.87945897846093,
          39.7190359217807,
          49.02881798924857,
          51.48910075846372,
          43.20559077068287,
          54.23341948608575,
          70.8076590403919,
          32.55669280721742,
          55.82244477563761,
          49.3402537910919,
          54.506555553346544,
          45.69285299539709,
          48.53940114952833,
          51.29500451008099,
          46.983661164647394,
          34.794586826301014,
          47.66084969355547,
          35.83566371803806,
          56.531931105803096,
          31.344548989218776,
          60.286543794558895,
          54.2956300020348,
          54.33388615733895,
          28.356901321521605,
          46.71400561908444,
          61.5356342865986,
          44.81392020969705,
          39.21937850036286,
          43.63329904994288,
          49.31722377360662,
          41.48629549687189,
          62.33817232089294,
          49.35332470009608,
          44.44430652052072,
          36.98656473164421,
          54.84446605278938,
          54.61666294711363,
          42.07791093815308,
          27.636709716858547,
          54.10762189575884,
          48.131966087389976,
          53.36071167925669,
          69.57174533639639,
          49.7316815629094,
          44.861613831572285,
          38.5267803235166,
          46.87578208504951,
          51.60577349615641,
          50.5330742059876,
          67.23465340067102,
          54.99085565465943,
          48.6519912849279,
          42.93439421166527,
          52.666727637833205,
          40.92991841617341,
          51.79831079537907,
          54.87413926904844,
          47.83547777228552,
          43.69713555934858,
          28.14703152665094,
          61.438367264203904,
          54.03300390245282,
          54.27617281584782,
          34.386476642227,
          63.79838699740057,
          45.3478313338192,
          47.112046973005135,
          39.30713144581175,
          32.130542686601515,
          61.57346311723567,
          62.86597369397624,
          48.344718486466725,
          43.2061543019365,
          46.22955830865742,
          46.5038500996445,
          38.00140277820402,
          47.0774478455616,
          51.53101992934325,
          60.18157247648752,
          50.14244164013712,
          34.23648291100564,
          53.53547863198676,
          47.440694383302464,
          63.70409693983866,
          64.29457802044007,
          64.644543122673,
          44.384120646267206,
          69.89855073337557,
          53.50942504895707,
          66.26380405668633,
          44.973803861682406,
          47.01403262390374,
          52.740273526720856,
          51.5187760961394,
          62.5481194346917,
          47.67870681451546,
          61.64614990310356,
          57.32234507132653,
          47.86607781392851,
          56.546766174823134,
          45.26734953166951,
          73.50205800005722,
          23.35667678925553,
          56.72943204495039,
          32.35404090722953,
          47.74343296781932,
          49.14391910528754,
          65.07633558913685,
          43.078477879231095,
          63.08011915661778,
          38.21183359775203,
          63.46669723754866,
          45.25654558096527,
          50.73434519241119,
          46.63621336889596,
          62.82363474115604,
          60.87739843233747,
          54.43501720584525,
          38.48131615413226,
          42.84978131969757,
          39.71423474493875,
          27.518571132078367,
          62.61318101850046,
          46.72176473657303,
          46.61506035707703,
          64.9610223342556,
          45.24011397613632,
          41.59529064314069,
          47.75254379485016,
          38.67330948123104,
          53.443557692879565,
          46.2633792173583,
          44.92728589406188,
          44.06096827979698,
          48.93778506157989,
          50.83481125519851,
          44.80024911592479,
          46.41234063904853,
          49.184771731806514,
          48.17581864460461,
          50.31075966875014,
          43.23329196751986,
          60.0459290912649,
          50.968281774095175,
          44.96153247175123,
          53.44384217378535,
          49.25631401181285,
          32.66173645516332,
          53.40952690221626,
          39.80493797615813,
          59.34427783231308,
          47.58250361106553,
          57.80070297391064,
          43.69781446802393,
          50.6992926714064,
          62.10243500506876,
          47.30983453585178,
          44.09182901264195,
          56.550406137817895,
          56.356615967509605,
          44.51250866585181,
          30.14538979582238,
          43.89977022501644,
          56.77359521686422,
          42.24965810576276,
          49.89062162983805,
          43.42515062033656,
          30.678328374739504,
          43.24518822960072,
          56.73132020689712,
          26.29747519934188,
          52.52167350475575,
          38.13930768600586,
          56.08442069474192,
          57.143189358736535,
          48.28052065088724,
          48.30331841218778,
          41.936373028636986,
          36.54416599895034,
          66.98092906333733,
          41.34928572828872,
          65.67796131196472,
          41.40499960199823,
          55.25190390337728,
          38.621928403463656,
          55.23395016902016,
          46.74412642846878,
          46.874838393243294,
          56.10023169784451,
          45.30858634920902,
          35.718515045549026,
          57.61305563409452,
          38.54099410017672,
          55.1651728439791,
          59.72996545333,
          46.24506113647782,
          61.82352844091784,
          54.81783707861284,
          43.04138579855224,
          64.01429002266075,
          38.58328178260609,
          46.232995700964345,
          47.93685196380671,
          56.05223701018255,
          61.15433297381134,
          60.52791556902714,
          52.23748319574306,
          47.197308955364335,
          31.740157583723697,
          36.85854145544784,
          67.66655489291435,
          31.639280124974608,
          42.1550935675789,
          61.4460628205009,
          52.09713299197367,
          59.280450710056925,
          55.42828351270676,
          64.69582537360887,
          52.954272865648846,
          56.63447729151511,
          42.757534679416594,
          55.863329755781365,
          46.03873902010771,
          45.46894132019288,
          58.94723514647138,
          59.01623376059364,
          66.88442155746131,
          66.232631854862,
          59.17315161358776,
          32.795543897632875,
          68.27680982949695,
          59.17967670666362,
          42.34139909913697,
          57.28909155562782,
          39.62734259037272,
          56.18630120109742,
          36.83729958925901,
          41.917815912133634,
          57.09929129200527,
          60.72886742992894,
          53.2543685943381,
          47.13831363312029,
          28.851337049830093,
          47.9097890034864,
          55.33485076824528,
          46.83234894064353,
          49.774220589055815,
          48.1438253208208,
          46.78293782178567,
          50.758773899598125,
          47.27305417847539,
          64.43289553631942,
          27.935811516162676,
          44.54157414028923,
          41.29743776482775,
          52.1911060003441,
          50.77144785883127,
          66.22193101549429,
          69.51142048297794,
          42.26916544429519,
          50.00500065033629,
          51.96304416924355,
          42.02186251662664,
          56.28382036037623,
          47.60492631235056,
          39.32365149399022,
          47.20431695733457,
          40.02325427259351,
          60.36646829419256,
          69.0155925511367,
          52.44819373894539,
          51.11276768053276,
          51.52434766874186,
          61.82234028938315,
          61.60699003597183,
          48.84346431451769,
          52.52589927379091,
          56.52646407177078,
          38.62312543449266,
          62.12608237420456,
          67.34831891227228,
          61.650321048394574,
          37.54406088385445,
          30.29999544581126,
          57.08718673517932,
          42.39810551037914,
          52.87133354122986,
          65.35148720007548,
          43.4304482360159,
          46.2244534359104,
          52.76722972588316,
          37.024903600177694,
          42.42143803994124,
          50.24857503751269,
          46.995451311822485,
          56.084077537992265,
          77.65979614439267,
          50.99138339418125,
          41.58288053961991,
          64.18240354757565,
          34.11181524679779,
          36.11091828970893,
          44.04896561352277,
          47.17113279480375,
          43.80927263482791,
          49.68487675576977,
          52.74741902746345,
          60.68959535275138,
          50.91188273843783,
          44.380537523048986,
          60.14645386439412,
          41.82284524269869,
          33.673972543126766,
          62.05956017904542,
          61.41853244810972,
          42.07701607795894,
          46.00901146179074,
          40.83072454670071,
          53.26624217565134,
          67.32049291368082,
          57.02881798595122,
          60.357246425830326,
          58.19728331691012,
          49.99880851440906,
          60.83340437911316,
          57.450305629128,
          64.39445715153136,
          45.40451058838244,
          32.618883604546134,
          60.45251014873077,
          53.49769520606058,
          47.03953899678764,
          47.59847187692509,
          75.54686325902117,
          43.57805347465729,
          41.46696693173666,
          50.85284233493352,
          61.80490877972961,
          72.78401986529228,
          56.57364963389571,
          37.2959125602057,
          69.70864270717799,
          49.80531300922903,
          41.62290568105031,
          39.20607542900646,
          58.36328719335456,
          52.38829386186414,
          53.45075376945851,
          62.86503119071931,
          41.97845408490356,
          63.66154628273648,
          44.8084267720631,
          71.64007373912357,
          55.9873901599314,
          40.79761470223623,
          29.745819166795204,
          58.089247222790114,
          46.25819724009816,
          48.44434305478165,
          57.66196009174107,
          60.10413826250655,
          62.23710340669291,
          38.25158691617064,
          64.2589474962459,
          44.20954663831851,
          27.43750065251773,
          38.21559653139954,
          52.18025092132565,
          40.21185753918861,
          49.11955530823956,
          53.382524875291786,
          48.18614596890714,
          45.05645662143283,
          37.49303937011774,
          50.21943808215333,
          29.350426124152648,
          43.140019582805785,
          40.72215890939239,
          47.60623148491085,
          47.86670200690731,
          59.59956674433745,
          65.834772772496,
          38.8222115976303,
          69.9283262527003,
          42.20704400478568,
          51.7252678292309,
          55.108629891483176,
          74.44582752582505,
          44.57717662237336,
          32.03261987021946,
          64.90379470192981,
          41.66626441204565,
          46.38411419424407,
          38.82250346073825,
          46.412962269510814,
          41.5960846379456,
          56.76441816494771,
          50.80791629721979,
          43.18944839385321,
          59.95871976658928,
          52.54996750674599,
          31.539517495559444,
          59.19703314084302,
          51.84867883852635,
          63.90732487591542,
          51.23917426342645,
          42.08290649432405,
          47.95704666698163,
          58.03919330880721,
          42.29262940299137,
          45.59703212892441,
          47.78311420000933,
          38.50628389784127,
          42.436765753714255,
          51.7255019180419,
          62.02477747653008,
          53.17146984710475,
          49.54138740630979,
          41.687292260476895,
          60.95160411720232,
          54.335054999468426,
          42.9327023648076,
          58.986484586849,
          55.59577061510467,
          41.86469650633764,
          48.986217437358,
          45.07227271757064,
          76.33537940031604,
          55.31744883125658,
          51.8676205484824,
          54.726630560767134,
          63.79162588197498,
          49.16619855561535,
          44.10090702134244,
          58.44283228097417,
          48.25055433998688,
          39.30104670919496,
          37.353135682439415,
          65.29296550839533,
          51.316445669192845,
          44.10432616007599,
          47.65665088957937,
          58.07444718008352,
          47.06594484157955,
          35.505802708225815,
          53.25840852147925,
          62.08347817573564,
          61.4146431797225,
          44.406700618627546,
          62.6917265645838,
          52.12949973671623,
          62.41147343878727,
          55.73687030002554,
          34.7840315736733,
          67.46738937508346,
          50.51783851198953,
          55.76793823913817,
          36.55955371528156,
          55.053265000780655,
          61.0292773274266,
          69.35320336598404,
          64.00399794795283,
          55.54224703946039,
          34.55622646651614,
          51.322727904974215,
          44.0749043478707,
          52.34977874816247,
          37.83674167204901,
          47.89833092208099,
          44.828169161939314,
          44.518336440307536,
          44.61763814008846,
          48.64145283611755,
          52.86194759048022,
          25.01506412128549,
          26.235671436621363,
          46.61308660078125,
          48.02230955294386,
          51.891112166039406,
          42.72327645143776,
          50.09465194022682,
          51.26523205018055,
          42.65441903134528,
          60.13455821741101,
          51.76986311455061,
          55.469610954632905,
          50.68845731283853,
          71.0367310306172,
          55.96397069117653,
          45.12006683792775,
          58.20966884368401,
          33.62395082543328,
          51.196002626671046,
          53.191602900919904,
          51.31020762078698,
          46.66221129161113,
          39.87726643162985,
          42.10652987949037,
          51.02074916247384,
          38.86480767572007,
          67.70167615647273,
          23.59102320656294,
          46.76562132455396,
          51.10389639107697,
          55.07420927833289,
          40.84075272737573,
          61.342947938882126,
          36.06168956187077,
          44.33871411392432,
          56.20747555279424,
          60.40188564792752,
          35.95998703618902,
          76.45036790415159,
          41.0250843683279,
          36.87817522472217,
          55.02714891773257,
          46.51706546418543,
          45.03947687460256,
          55.9564405756972,
          34.72704309572191,
          32.978656000252975,
          44.02576634856772,
          60.779017394533255,
          44.45944706587216,
          65.99156684528614,
          62.01014761171891,
          52.829461845074846,
          53.397238593747566,
          52.82002625016856,
          51.597177286821,
          46.33758302521821,
          47.49812166792837,
          39.30039843407418,
          27.8995721070982,
          61.0407060928205,
          51.57258436785298,
          50.06211355621786,
          53.9844912285788,
          41.71602545206351,
          39.98937786615567,
          47.16315306321847,
          63.68098481763813,
          38.31258971506874,
          23.729346431918337,
          44.78598908181248,
          61.42699916235184,
          32.67455975645646,
          38.19716396177128,
          52.63546740578169,
          75.69907035475335,
          36.41788331473805,
          36.03065908532041,
          53.38698368839185,
          62.04674439993704,
          43.7590128767429,
          33.78605843877831,
          54.33749220886346,
          56.14841397302973,
          67.78655126538249,
          56.56947112324279,
          58.2806607637238,
          47.37854856132094,
          74.41504342169468,
          46.0185798941153,
          43.8807787858823,
          68.09514918518607,
          35.2576272110459,
          31.52591615472085,
          51.19556924598485,
          49.98263476724305,
          47.72112018449338,
          59.939297571216514,
          40.91793817711429,
          50.64167125624674,
          46.39894047361813,
          41.087814998932494,
          49.381599160393165,
          58.525958032951024,
          71.20568120430502,
          55.794189828989694,
          24.891649985985485,
          49.61859914558351,
          50.49802790902832,
          59.3620900957995,
          51.84810302489739,
          62.53088917302077,
          53.91670615615271,
          65.58798069497888,
          45.61254079951706,
          51.44343467296694,
          58.26641535389896,
          44.27805929706557,
          42.09987197918924,
          43.70647900313315,
          42.507843829110776,
          55.22561920875327,
          31.651919703654443,
          34.44029973682093,
          68.62746492357263,
          42.74903279025823,
          52.00014851171749,
          35.108535821008715,
          50.94124267789276,
          42.80993332318596,
          34.36910501839586,
          63.36920437564713,
          61.82565727060872,
          48.92645209285983,
          59.99419032677911,
          69.03292687727159,
          57.540759331580894,
          54.79679739509963,
          51.98949696483309,
          56.49497364859239,
          46.36080606510363,
          47.233641308385536,
          54.508913752125146,
          45.26135129840471,
          46.34200327206498,
          50.00186664634973,
          61.50607550593069,
          38.673362464403525,
          57.59178502705261,
          57.917964128034704,
          57.85812009296809,
          41.93253619790511,
          33.07318384489063,
          55.59700472411422,
          51.87538784413962,
          60.04376634763132,
          42.99463171990462,
          57.60118376256361,
          60.54412112219411,
          49.0469027895065,
          54.169295032648165,
          53.81966457524095,
          41.785304709703496,
          55.31096602284608,
          66.22498340901014,
          50.22203934542637,
          35.390750613483426,
          43.1277346908599,
          32.20570551148373,
          62.90261129046065,
          57.64105296328095,
          44.98630728332181,
          35.81940078031064,
          41.6670504175751,
          43.61723034302853,
          51.09407599020059,
          50.7575934319838,
          63.41431975373703,
          43.07245142301957,
          34.91812145646071,
          38.43021524857708,
          49.76975145553499,
          42.713219330542096,
          47.079914544869744,
          45.45966419680556,
          59.90238453705183,
          44.13034312907678,
          46.2265792305219,
          57.17283581158776,
          44.35018088967924,
          54.232123744570174,
          53.31485262021759,
          51.4176585896108,
          38.6560361729351,
          62.29774224521937,
          72.20683796583114,
          50.08828138267395,
          39.53645126629625,
          50.29102708325023,
          59.89860140585999,
          43.848123242843926,
          48.7110081588181,
          53.406541364121416,
          62.03047852205925,
          57.754237330893744,
          58.16867969532262,
          45.73731443323575,
          54.01918955173923,
          42.78036672874871,
          58.45526099885211,
          61.51219640785614,
          55.53363568772623,
          46.32589413205184,
          47.96272871958402,
          68.0651621066201,
          46.49289555376504,
          60.49994167450568,
          53.38891598218522,
          46.65863551540157,
          36.553509725305744,
          52.11600380588507,
          50.91100866606122,
          68.06534671459333,
          41.39807304577502,
          72.94768591547785,
          53.78810529496593,
          53.77829221222158,
          44.0692786556777,
          53.147063075544686,
          54.73050928233213,
          59.37327291820877,
          40.216777924080574,
          64.06780855788038,
          53.61415523771979,
          56.08228895307312,
          47.79057738495239,
          40.71857361720949,
          50.72724627403287,
          51.87295549823218,
          36.14571731885509,
          57.93285405165125,
          59.965246338965805,
          42.70335376178873,
          39.77414649727909,
          46.97038623125699,
          50.238950969863,
          47.35828990084666,
          49.39082167229217,
          52.21477697675916,
          36.31731061274371,
          37.46704372696735,
          22.777222590768552,
          59.42545228453472,
          50.15227020617449,
          60.47851131465157,
          38.62262004188608,
          50.24407339533162,
          52.148265061166015,
          44.382175051699846,
          34.46572201533208,
          67.45871336135157,
          63.992833412700506,
          46.18067728274635,
          55.10227645169608,
          45.15209323643107,
          40.04596396975252,
          68.27261504957013,
          33.44631118594198,
          47.14496303028885,
          50.84323827242234,
          66.51236578687286,
          58.96588654236018,
          33.27750225432681,
          49.972497589658175,
          50.21060198364359,
          47.71661664700558,
          56.19809107530301,
          35.90893072244023,
          45.9136408746333,
          54.78818748213075,
          56.79575685160641,
          51.494194735091966,
          47.11607799699701,
          48.80058726373528,
          57.40407122377237,
          50.3390078412546,
          39.58152454559471,
          37.66502416055097,
          35.10362578563891,
          64.55580818489354,
          58.07461835612445,
          48.93512116819453,
          45.46207514835916,
          44.26069992032642,
          60.9323710758221,
          69.0443350817474,
          43.94607076072461,
          61.3841552065571,
          50.280129153588895,
          47.87571070089533,
          65.04214282829923,
          49.89834279257223,
          52.96364439254636,
          52.48273932911446,
          33.74400633340548,
          52.88411148716062,
          44.37307975559767,
          35.78846859854379,
          44.82862919551238,
          44.74611130363054,
          60.29882539130331,
          39.362103838979685,
          42.101525609507455,
          52.35388260548012,
          36.742062286457525,
          43.40993241767666,
          33.35523264666778,
          59.200114600053965,
          46.98636879559814,
          49.840821549977576,
          59.1601031979109,
          42.777311163461135,
          46.88012991351996,
          39.436720006942586,
          39.41496279004188,
          40.79417105994121,
          45.07509609166335,
          46.15204465826935,
          52.8863215089838,
          41.08783051958101,
          53.19632675917477,
          54.85001291523228,
          45.32177817167734,
          41.95275427581619,
          50.8507903197999,
          47.97082536989555,
          52.20351829273545,
          65.69866436259967,
          50.68637048427716,
          43.60769438719868,
          41.09110388057941,
          41.47798368678416,
          35.37233692888879,
          59.32743608345579,
          27.66721180644236,
          54.88104817719306,
          41.319360933247694,
          44.87594785375882,
          41.02012358455612,
          64.45864659642031,
          50.16315601685777,
          57.90378525042853,
          63.00526858596006,
          51.63405474022404,
          38.04376229144788,
          47.79357249884228,
          42.57751986433797,
          44.96495838112701,
          49.05376207350711,
          48.65844357907736,
          54.12109161020287,
          55.57304293780487,
          48.658548237335424,
          54.03468918107917,
          44.50640145064558,
          63.14779825596504,
          44.34488711782354,
          61.97186484622428,
          35.23932908228278,
          46.19592742589154,
          46.69021826386394,
          52.78991794748474,
          58.61816803218824,
          37.50604796940472,
          38.92016957957093,
          35.98091932283762,
          63.20184197198417,
          52.976049427971226,
          39.15628791542877,
          45.569051260439295,
          61.81761395661495,
          47.218807696887616,
          46.62811862208827,
          42.187032931769416,
          39.75007686181237,
          61.833238104431565,
          66.7390158874206,
          40.14805597212652,
          64.0494232921812,
          45.12610583709895,
          55.33647995368887,
          64.10213804814408,
          48.54923404296368,
          46.720580797326406,
          58.010809637881856,
          38.90047162963751,
          61.4706137784043,
          51.42809392442583,
          44.22249491845823,
          43.958323966841455,
          36.16537488171634,
          44.638278333760105,
          47.35962238005599,
          39.38706468288518,
          49.54535023870996,
          54.72917084525496,
          47.86527864000581,
          56.627258265192665,
          41.92860017020664,
          60.0338276421994,
          51.21814705774858,
          65.45257169754743,
          74.14217312238733,
          45.29756407696719,
          45.70936123098542,
          47.53757878051282,
          55.95702250175515,
          63.2596997047509,
          43.47191515830197,
          53.812442664780725,
          48.64072710144233,
          56.18109102540589,
          65.0945769340769,
          47.596717625669854,
          33.301323333262694,
          57.43901676880293,
          41.67294781394548,
          48.56884263036222,
          57.87030836871614,
          52.97394853531108,
          48.98279974446955,
          44.24118287541679,
          21.00106219725001,
          56.98320815756202,
          47.47048300774236,
          65.13336278355726,
          53.9802802996187,
          44.58874627465157,
          60.6687008837604,
          61.5112940595819,
          47.80968185647522,
          61.93644865573228,
          44.44691944613953,
          51.59647769407903,
          55.71408387718781,
          57.84781584014189,
          56.2152184861589,
          46.67342819436828,
          60.93697640691441,
          48.755726768935816,
          44.30972637724807,
          44.45662032686669,
          69.39988391476335,
          42.58016571908056,
          62.91635226760447,
          38.645333041898304,
          54.87905445074186,
          52.97083451490835,
          66.21226879726228,
          43.45598104831485,
          40.69335782039613,
          48.834896216530176,
          66.64801829240452,
          41.15841520056232,
          24.115833677958,
          50.597678373732826,
          59.49522917961009,
          39.86194067360137,
          58.47932173353264,
          39.64089014987543,
          48.53441464308321,
          57.52682315286057,
          38.12534598261561,
          51.81513331507554,
          62.14973511292237,
          54.73934099211351,
          42.79373942409232,
          65.18718352716795,
          56.5839251192249,
          31.39552000075693,
          58.642436147342266,
          44.28625747582723,
          51.96563547642464,
          60.0800400429326,
          44.503954153351664,
          33.54407385958186,
          65.05545191905829,
          61.64583471201948,
          49.12743986817054,
          58.53421451492115,
          46.30613267936315,
          50.9697017676085,
          48.5571205736326,
          46.71055914642698,
          53.593025800857546,
          37.91821176354412,
          47.48419169234421,
          53.14479472483405,
          68.38100707961635,
          38.32465784687304,
          55.20553057732428,
          56.30148776427861,
          31.232812693172637,
          54.10532014409252,
          58.802850789837805,
          55.886526793824345,
          49.160727451273246,
          53.33240036522429,
          51.6984469724903,
          33.10542661684805,
          51.93320324754466,
          46.32929594018328,
          42.95177829002017
         ],
         "yaxis": "y"
        }
       ],
       "layout": {
        "legend": {
         "tracegroupgap": 0
        },
        "template": {
         "data": {
          "bar": [
           {
            "error_x": {
             "color": "#2a3f5f"
            },
            "error_y": {
             "color": "#2a3f5f"
            },
            "marker": {
             "line": {
              "color": "#E5ECF6",
              "width": 0.5
             },
             "pattern": {
              "fillmode": "overlay",
              "size": 10,
              "solidity": 0.2
             }
            },
            "type": "bar"
           }
          ],
          "barpolar": [
           {
            "marker": {
             "line": {
              "color": "#E5ECF6",
              "width": 0.5
             },
             "pattern": {
              "fillmode": "overlay",
              "size": 10,
              "solidity": 0.2
             }
            },
            "type": "barpolar"
           }
          ],
          "carpet": [
           {
            "aaxis": {
             "endlinecolor": "#2a3f5f",
             "gridcolor": "white",
             "linecolor": "white",
             "minorgridcolor": "white",
             "startlinecolor": "#2a3f5f"
            },
            "baxis": {
             "endlinecolor": "#2a3f5f",
             "gridcolor": "white",
             "linecolor": "white",
             "minorgridcolor": "white",
             "startlinecolor": "#2a3f5f"
            },
            "type": "carpet"
           }
          ],
          "choropleth": [
           {
            "colorbar": {
             "outlinewidth": 0,
             "ticks": ""
            },
            "type": "choropleth"
           }
          ],
          "contour": [
           {
            "colorbar": {
             "outlinewidth": 0,
             "ticks": ""
            },
            "colorscale": [
             [
              0,
              "#0d0887"
             ],
             [
              0.1111111111111111,
              "#46039f"
             ],
             [
              0.2222222222222222,
              "#7201a8"
             ],
             [
              0.3333333333333333,
              "#9c179e"
             ],
             [
              0.4444444444444444,
              "#bd3786"
             ],
             [
              0.5555555555555556,
              "#d8576b"
             ],
             [
              0.6666666666666666,
              "#ed7953"
             ],
             [
              0.7777777777777778,
              "#fb9f3a"
             ],
             [
              0.8888888888888888,
              "#fdca26"
             ],
             [
              1,
              "#f0f921"
             ]
            ],
            "type": "contour"
           }
          ],
          "contourcarpet": [
           {
            "colorbar": {
             "outlinewidth": 0,
             "ticks": ""
            },
            "type": "contourcarpet"
           }
          ],
          "heatmap": [
           {
            "colorbar": {
             "outlinewidth": 0,
             "ticks": ""
            },
            "colorscale": [
             [
              0,
              "#0d0887"
             ],
             [
              0.1111111111111111,
              "#46039f"
             ],
             [
              0.2222222222222222,
              "#7201a8"
             ],
             [
              0.3333333333333333,
              "#9c179e"
             ],
             [
              0.4444444444444444,
              "#bd3786"
             ],
             [
              0.5555555555555556,
              "#d8576b"
             ],
             [
              0.6666666666666666,
              "#ed7953"
             ],
             [
              0.7777777777777778,
              "#fb9f3a"
             ],
             [
              0.8888888888888888,
              "#fdca26"
             ],
             [
              1,
              "#f0f921"
             ]
            ],
            "type": "heatmap"
           }
          ],
          "heatmapgl": [
           {
            "colorbar": {
             "outlinewidth": 0,
             "ticks": ""
            },
            "colorscale": [
             [
              0,
              "#0d0887"
             ],
             [
              0.1111111111111111,
              "#46039f"
             ],
             [
              0.2222222222222222,
              "#7201a8"
             ],
             [
              0.3333333333333333,
              "#9c179e"
             ],
             [
              0.4444444444444444,
              "#bd3786"
             ],
             [
              0.5555555555555556,
              "#d8576b"
             ],
             [
              0.6666666666666666,
              "#ed7953"
             ],
             [
              0.7777777777777778,
              "#fb9f3a"
             ],
             [
              0.8888888888888888,
              "#fdca26"
             ],
             [
              1,
              "#f0f921"
             ]
            ],
            "type": "heatmapgl"
           }
          ],
          "histogram": [
           {
            "marker": {
             "pattern": {
              "fillmode": "overlay",
              "size": 10,
              "solidity": 0.2
             }
            },
            "type": "histogram"
           }
          ],
          "histogram2d": [
           {
            "colorbar": {
             "outlinewidth": 0,
             "ticks": ""
            },
            "colorscale": [
             [
              0,
              "#0d0887"
             ],
             [
              0.1111111111111111,
              "#46039f"
             ],
             [
              0.2222222222222222,
              "#7201a8"
             ],
             [
              0.3333333333333333,
              "#9c179e"
             ],
             [
              0.4444444444444444,
              "#bd3786"
             ],
             [
              0.5555555555555556,
              "#d8576b"
             ],
             [
              0.6666666666666666,
              "#ed7953"
             ],
             [
              0.7777777777777778,
              "#fb9f3a"
             ],
             [
              0.8888888888888888,
              "#fdca26"
             ],
             [
              1,
              "#f0f921"
             ]
            ],
            "type": "histogram2d"
           }
          ],
          "histogram2dcontour": [
           {
            "colorbar": {
             "outlinewidth": 0,
             "ticks": ""
            },
            "colorscale": [
             [
              0,
              "#0d0887"
             ],
             [
              0.1111111111111111,
              "#46039f"
             ],
             [
              0.2222222222222222,
              "#7201a8"
             ],
             [
              0.3333333333333333,
              "#9c179e"
             ],
             [
              0.4444444444444444,
              "#bd3786"
             ],
             [
              0.5555555555555556,
              "#d8576b"
             ],
             [
              0.6666666666666666,
              "#ed7953"
             ],
             [
              0.7777777777777778,
              "#fb9f3a"
             ],
             [
              0.8888888888888888,
              "#fdca26"
             ],
             [
              1,
              "#f0f921"
             ]
            ],
            "type": "histogram2dcontour"
           }
          ],
          "mesh3d": [
           {
            "colorbar": {
             "outlinewidth": 0,
             "ticks": ""
            },
            "type": "mesh3d"
           }
          ],
          "parcoords": [
           {
            "line": {
             "colorbar": {
              "outlinewidth": 0,
              "ticks": ""
             }
            },
            "type": "parcoords"
           }
          ],
          "pie": [
           {
            "automargin": true,
            "type": "pie"
           }
          ],
          "scatter": [
           {
            "fillpattern": {
             "fillmode": "overlay",
             "size": 10,
             "solidity": 0.2
            },
            "type": "scatter"
           }
          ],
          "scatter3d": [
           {
            "line": {
             "colorbar": {
              "outlinewidth": 0,
              "ticks": ""
             }
            },
            "marker": {
             "colorbar": {
              "outlinewidth": 0,
              "ticks": ""
             }
            },
            "type": "scatter3d"
           }
          ],
          "scattercarpet": [
           {
            "marker": {
             "colorbar": {
              "outlinewidth": 0,
              "ticks": ""
             }
            },
            "type": "scattercarpet"
           }
          ],
          "scattergeo": [
           {
            "marker": {
             "colorbar": {
              "outlinewidth": 0,
              "ticks": ""
             }
            },
            "type": "scattergeo"
           }
          ],
          "scattergl": [
           {
            "marker": {
             "colorbar": {
              "outlinewidth": 0,
              "ticks": ""
             }
            },
            "type": "scattergl"
           }
          ],
          "scattermapbox": [
           {
            "marker": {
             "colorbar": {
              "outlinewidth": 0,
              "ticks": ""
             }
            },
            "type": "scattermapbox"
           }
          ],
          "scatterpolar": [
           {
            "marker": {
             "colorbar": {
              "outlinewidth": 0,
              "ticks": ""
             }
            },
            "type": "scatterpolar"
           }
          ],
          "scatterpolargl": [
           {
            "marker": {
             "colorbar": {
              "outlinewidth": 0,
              "ticks": ""
             }
            },
            "type": "scatterpolargl"
           }
          ],
          "scatterternary": [
           {
            "marker": {
             "colorbar": {
              "outlinewidth": 0,
              "ticks": ""
             }
            },
            "type": "scatterternary"
           }
          ],
          "surface": [
           {
            "colorbar": {
             "outlinewidth": 0,
             "ticks": ""
            },
            "colorscale": [
             [
              0,
              "#0d0887"
             ],
             [
              0.1111111111111111,
              "#46039f"
             ],
             [
              0.2222222222222222,
              "#7201a8"
             ],
             [
              0.3333333333333333,
              "#9c179e"
             ],
             [
              0.4444444444444444,
              "#bd3786"
             ],
             [
              0.5555555555555556,
              "#d8576b"
             ],
             [
              0.6666666666666666,
              "#ed7953"
             ],
             [
              0.7777777777777778,
              "#fb9f3a"
             ],
             [
              0.8888888888888888,
              "#fdca26"
             ],
             [
              1,
              "#f0f921"
             ]
            ],
            "type": "surface"
           }
          ],
          "table": [
           {
            "cells": {
             "fill": {
              "color": "#EBF0F8"
             },
             "line": {
              "color": "white"
             }
            },
            "header": {
             "fill": {
              "color": "#C8D4E3"
             },
             "line": {
              "color": "white"
             }
            },
            "type": "table"
           }
          ]
         },
         "layout": {
          "annotationdefaults": {
           "arrowcolor": "#2a3f5f",
           "arrowhead": 0,
           "arrowwidth": 1
          },
          "autotypenumbers": "strict",
          "coloraxis": {
           "colorbar": {
            "outlinewidth": 0,
            "ticks": ""
           }
          },
          "colorscale": {
           "diverging": [
            [
             0,
             "#8e0152"
            ],
            [
             0.1,
             "#c51b7d"
            ],
            [
             0.2,
             "#de77ae"
            ],
            [
             0.3,
             "#f1b6da"
            ],
            [
             0.4,
             "#fde0ef"
            ],
            [
             0.5,
             "#f7f7f7"
            ],
            [
             0.6,
             "#e6f5d0"
            ],
            [
             0.7,
             "#b8e186"
            ],
            [
             0.8,
             "#7fbc41"
            ],
            [
             0.9,
             "#4d9221"
            ],
            [
             1,
             "#276419"
            ]
           ],
           "sequential": [
            [
             0,
             "#0d0887"
            ],
            [
             0.1111111111111111,
             "#46039f"
            ],
            [
             0.2222222222222222,
             "#7201a8"
            ],
            [
             0.3333333333333333,
             "#9c179e"
            ],
            [
             0.4444444444444444,
             "#bd3786"
            ],
            [
             0.5555555555555556,
             "#d8576b"
            ],
            [
             0.6666666666666666,
             "#ed7953"
            ],
            [
             0.7777777777777778,
             "#fb9f3a"
            ],
            [
             0.8888888888888888,
             "#fdca26"
            ],
            [
             1,
             "#f0f921"
            ]
           ],
           "sequentialminus": [
            [
             0,
             "#0d0887"
            ],
            [
             0.1111111111111111,
             "#46039f"
            ],
            [
             0.2222222222222222,
             "#7201a8"
            ],
            [
             0.3333333333333333,
             "#9c179e"
            ],
            [
             0.4444444444444444,
             "#bd3786"
            ],
            [
             0.5555555555555556,
             "#d8576b"
            ],
            [
             0.6666666666666666,
             "#ed7953"
            ],
            [
             0.7777777777777778,
             "#fb9f3a"
            ],
            [
             0.8888888888888888,
             "#fdca26"
            ],
            [
             1,
             "#f0f921"
            ]
           ]
          },
          "colorway": [
           "#636efa",
           "#EF553B",
           "#00cc96",
           "#ab63fa",
           "#FFA15A",
           "#19d3f3",
           "#FF6692",
           "#B6E880",
           "#FF97FF",
           "#FECB52"
          ],
          "font": {
           "color": "#2a3f5f"
          },
          "geo": {
           "bgcolor": "white",
           "lakecolor": "white",
           "landcolor": "#E5ECF6",
           "showlakes": true,
           "showland": true,
           "subunitcolor": "white"
          },
          "hoverlabel": {
           "align": "left"
          },
          "hovermode": "closest",
          "mapbox": {
           "style": "light"
          },
          "paper_bgcolor": "white",
          "plot_bgcolor": "#E5ECF6",
          "polar": {
           "angularaxis": {
            "gridcolor": "white",
            "linecolor": "white",
            "ticks": ""
           },
           "bgcolor": "#E5ECF6",
           "radialaxis": {
            "gridcolor": "white",
            "linecolor": "white",
            "ticks": ""
           }
          },
          "scene": {
           "xaxis": {
            "backgroundcolor": "#E5ECF6",
            "gridcolor": "white",
            "gridwidth": 2,
            "linecolor": "white",
            "showbackground": true,
            "ticks": "",
            "zerolinecolor": "white"
           },
           "yaxis": {
            "backgroundcolor": "#E5ECF6",
            "gridcolor": "white",
            "gridwidth": 2,
            "linecolor": "white",
            "showbackground": true,
            "ticks": "",
            "zerolinecolor": "white"
           },
           "zaxis": {
            "backgroundcolor": "#E5ECF6",
            "gridcolor": "white",
            "gridwidth": 2,
            "linecolor": "white",
            "showbackground": true,
            "ticks": "",
            "zerolinecolor": "white"
           }
          },
          "shapedefaults": {
           "line": {
            "color": "#2a3f5f"
           }
          },
          "ternary": {
           "aaxis": {
            "gridcolor": "white",
            "linecolor": "white",
            "ticks": ""
           },
           "baxis": {
            "gridcolor": "white",
            "linecolor": "white",
            "ticks": ""
           },
           "bgcolor": "#E5ECF6",
           "caxis": {
            "gridcolor": "white",
            "linecolor": "white",
            "ticks": ""
           }
          },
          "title": {
           "x": 0.05
          },
          "xaxis": {
           "automargin": true,
           "gridcolor": "white",
           "linecolor": "white",
           "ticks": "",
           "title": {
            "standoff": 15
           },
           "zerolinecolor": "white",
           "zerolinewidth": 2
          },
          "yaxis": {
           "automargin": true,
           "gridcolor": "white",
           "linecolor": "white",
           "ticks": "",
           "title": {
            "standoff": 15
           },
           "zerolinecolor": "white",
           "zerolinewidth": 2
          }
         }
        },
        "title": {
         "text": "Scatterplot: Age vs Question 3"
        },
        "xaxis": {
         "anchor": "y",
         "domain": [
          0,
          1
         ],
         "title": {
          "text": "Age"
         }
        },
        "yaxis": {
         "anchor": "x",
         "domain": [
          0,
          1
         ],
         "title": {
          "text": "Question 3"
         }
        }
       }
      }
     },
     "metadata": {},
     "output_type": "display_data"
    },
    {
     "name": "stdout",
     "output_type": "stream",
     "text": [
      "ANOVA results for Question 1 by Education:\n",
      "F_onewayResult(statistic=3.125898171114664, pvalue=0.04432801944538322)\n",
      "Kruskal-Wallis results for Question 1 by Education:\n",
      "KruskalResult(statistic=6.213455362600374, pvalue=0.04474714293621707)\n",
      "Confidence Interval for Age Mean:\n",
      "(42.8887363676189, 44.74926363238111)\n"
     ]
    }
   ],
   "source": [
    "import pandas as pd\n",
    "import numpy as np\n",
    "from scipy import stats\n",
    "import plotly.express as px\n",
    "\n",
    "# Načtení dat\n",
    "data = pd.read_csv('../data/survey_data.csv')\n",
    "\n",
    "# 2) Explorační analýza dat\n",
    "# Prozkoumání vztahů mezi proměnnými a demografickými faktory pomocí Seaborn\n",
    "\n",
    "# Histogram věku\n",
    "# fig = px.histogram(data, x='Age', nbins=20, title='Age Distribution', labels={'Age': 'Age', 'count': 'Frequency'})\n",
    "# fig.show()\n",
    "bar_data = data['Age'].value_counts().reset_index()\n",
    "fig = px.bar(bar_data, x='Age', y='count', title='Age Distribution', labels={'index': 'Age', 'Age': 'Frequency'})\n",
    "fig.show()\n",
    "\n",
    "# Boxplot věku podle pohlaví\n",
    "fig = px.box(data, x='Gender', y='Age', title='Age Distribution by Gender', labels={'Gender': 'Gender', 'Age': 'Age'})\n",
    "fig.show()\n",
    "\n",
    "# Scatterplot mezi věkem a odpovědí na otázku 3\n",
    "fig = px.scatter(data, x='Age', y='Question3', title='Scatterplot: Age vs Question 3', labels={'Age': 'Age', 'Question3': 'Question 3'})\n",
    "fig.show()\n",
    "\n",
    "# 3) Formulace statistických hypotéz\n",
    "# Hypotéza: Existuje rozdíl ve skóre otázky 1 mezi různými vzděláními.\n",
    "\n",
    "# 4) Testování statistických hypotéz\n",
    "# Analýza rozptylu (ANOVA)\n",
    "anova_result = stats.f_oneway(data[data['Education'] == 'Primary']['Question1'],\n",
    "                               data[data['Education'] == 'Secondary']['Question1'],\n",
    "                               data[data['Education'] == 'Tertiary']['Question1'])\n",
    "print(\"ANOVA results for Question 1 by Education:\")\n",
    "print(anova_result)\n",
    "\n",
    "# Neparametrický Kruskal-Wallis test pro srovnání vzdělání a otázky 1\n",
    "kruskal_result = stats.kruskal(data[data['Education'] == 'Primary']['Question1'],\n",
    "                                data[data['Education'] == 'Secondary']['Question1'],\n",
    "                                data[data['Education'] == 'Tertiary']['Question1'])\n",
    "print(\"Kruskal-Wallis results for Question 1 by Education:\")\n",
    "print(kruskal_result)\n",
    "\n",
    "# Interval spolehlivosti pro průměr věku\n",
    "age_mean_ci = stats.t.interval(0.95, len(data['Age']) - 1, loc=np.mean(data['Age']), scale=stats.sem(data['Age']))\n",
    "print(\"Confidence Interval for Age Mean:\")\n",
    "print(age_mean_ci)\n",
    "\n",
    "# 5) Komentovaný report\n",
    "# V tomto bodě bychom vytvořili report obsahující výsledky a interpretace z kroků 2, 4 a 5.\n",
    "\n"
   ]
  }
 ],
 "metadata": {
  "kernelspec": {
   "display_name": ".venv",
   "language": "python",
   "name": "python3"
  },
  "language_info": {
   "codemirror_mode": {
    "name": "ipython",
    "version": 3
   },
   "file_extension": ".py",
   "mimetype": "text/x-python",
   "name": "python",
   "nbconvert_exporter": "python",
   "pygments_lexer": "ipython3",
   "version": "3.10.12"
  }
 },
 "nbformat": 4,
 "nbformat_minor": 2
}
