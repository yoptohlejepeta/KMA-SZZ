{
 "cells": [
  {
   "cell_type": "code",
   "execution_count": 3,
   "metadata": {},
   "outputs": [
    {
     "name": "stdout",
     "output_type": "stream",
     "text": [
      "92.62270000000001%\n"
     ]
    }
   ],
   "source": [
    "import pandas as pd\n",
    "import plotly.express as px\n",
    "import random\n",
    "\n",
    "okruhy = [i for i in range(1, 21)]\n",
    "counts = []\n",
    "\n",
    "for _ in range(1000):\n",
    "    samples = [random.sample(okruhy, 3) for i in range(1000)]\n",
    "\n",
    "    df = pd.DataFrame(samples, columns=['okruh1', 'okruh2', 'okruh3'])\n",
    "    counts.append(len(df[(df['okruh1'] >= 10) | (df['okruh2'] >= 10) | (df['okruh3'] >= 10)]))\n",
    "    \n",
    "mean = sum(counts) / len(counts)\n",
    "print(f\"{(mean / 1000)*100}%\")"
   ]
  },
  {
   "cell_type": "code",
   "execution_count": 5,
   "metadata": {},
   "outputs": [
    {
     "name": "stdout",
     "output_type": "stream",
     "text": [
      "93%\n"
     ]
    }
   ],
   "source": [
    "import pandas as pd\n",
    "import plotly.express as px\n",
    "import random\n",
    "\n",
    "okruhy = [i for i in range(1, 21)]\n",
    "counts = []\n",
    "\n",
    "for _ in range(1000):\n",
    "    samples = [random.sample(okruhy, 3) for i in range(1000)]\n",
    "\n",
    "    df = pd.DataFrame(samples, columns=['okruh1', 'okruh2', 'okruh3'])\n",
    "    counts.append(len(df[(df['okruh1'] >= 10) | (df['okruh2'] >= 10) | (df['okruh3'] >= 10)]))\n",
    "    \n",
    "mean = sum(counts) / len(counts)\n",
    "print(f\"{round((mean / 1000)*100)}%\")"
   ]
  }
 ],
 "metadata": {
  "kernelspec": {
   "display_name": ".venv",
   "language": "python",
   "name": "python3"
  },
  "language_info": {
   "codemirror_mode": {
    "name": "ipython",
    "version": 3
   },
   "file_extension": ".py",
   "mimetype": "text/x-python",
   "name": "python",
   "nbconvert_exporter": "python",
   "pygments_lexer": "ipython3",
   "version": "3.10.12"
  }
 },
 "nbformat": 4,
 "nbformat_minor": 2
}
